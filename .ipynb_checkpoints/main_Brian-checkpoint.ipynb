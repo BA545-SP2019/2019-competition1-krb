{
 "cells": [
  {
   "cell_type": "markdown",
   "metadata": {},
   "source": [
    "## This will be the Main File for our testing adn things. We can read/write etc in this file"
   ]
  },
  {
   "cell_type": "markdown",
   "metadata": {},
   "source": [
    "## Step 1: Import the Appropriate Libaries and read in the data file\n",
    "\n"
   ]
  },
  {
   "cell_type": "code",
   "execution_count": 1,
   "metadata": {},
   "outputs": [],
   "source": [
    "import pandas as pd\n",
    "import numpy as np\n",
    "import matplotlib.pyplot as plt\n",
    "plt.style.use('ggplot')"
   ]
  },
  {
   "cell_type": "code",
   "execution_count": 2,
   "metadata": {},
   "outputs": [
    {
     "name": "stdout",
     "output_type": "stream",
     "text": [
      "     I1                                  I2    I3  P(IPO)  P(H)  P(L)  \\\n",
      "0  AATI  ADVANCED ANALOGIC TECHNOLOGIES INC  3674    10.0   9.5   8.5   \n",
      "1  ABPI     ACCENTIA BIOPHARMACEUTICALS INC  2834     8.0  10.0   8.0   \n",
      "2  ACAD          ACADIA PHARMACEUTICALS INC  2834     7.0  14.0  12.0   \n",
      "3  ACHN       ACHILLION PHARMACEUTICALS INC  2834    11.5  16.0  14.0   \n",
      "4  ACLI     AMERICAN COMMERCIAL LINES INC.   4492    21.0  21.0  19.0   \n",
      "\n",
      "     P(1Day)     C1   C2    C3  ...            C6       C7     T1       T2  \\\n",
      "0  11.870000  122.0  1.0  3.43  ...    10600000.0   51.345  470.0  12719.0   \n",
      "1   7.250000  259.0  0.0 -1.62  ...     2400000.0   25.936  791.0  21792.0   \n",
      "2   6.700000   90.0  1.0 -1.24  ...     5000000.0    7.378  201.0   5262.0   \n",
      "3  12.390000  209.0  1.0 -0.91  ...     4500000.0    8.526  328.0   8259.0   \n",
      "4  56.599998   80.0  1.0  0.07  ...     8250000.0  632.298  572.0  14830.0   \n",
      "\n",
      "        T3     T4      T5    S1     S2     S3  \n",
      "0  11560.0  301.0   690.0  62.0  117.0  139.0  \n",
      "1  19585.0  510.0  1120.0  71.0  242.0  237.0  \n",
      "2   4785.0  128.0   325.0  61.0   33.0   60.0  \n",
      "3   7574.0  177.0   509.0  80.0   59.0  110.0  \n",
      "4  13176.0  336.0   720.0  67.0  149.0  167.0  \n",
      "\n",
      "[5 rows x 22 columns]\n"
     ]
    }
   ],
   "source": [
    "df = pd.read_excel('Competition1_raw_data.xlsx', na_values='-')\n",
    "print (df.head())"
   ]
  },
  {
   "cell_type": "markdown",
   "metadata": {},
   "source": [
    "## Step 2: Now Lets analyze the data that we have to work with"
   ]
  },
  {
   "cell_type": "code",
   "execution_count": 3,
   "metadata": {},
   "outputs": [
    {
     "name": "stdout",
     "output_type": "stream",
     "text": [
      "Checking the shape of our data \n",
      "\n",
      "(682, 22)\n",
      "Checking the data types we have \n",
      "\n",
      "I1          object\n",
      "I2          object\n",
      "I3          object\n",
      "P(IPO)     float64\n",
      "P(H)       float64\n",
      "P(L)       float64\n",
      "P(1Day)    float64\n",
      "C1         float64\n",
      "C2         float64\n",
      "C3         float64\n",
      "C4         float64\n",
      "C5         float64\n",
      "C6         float64\n",
      "C7         float64\n",
      "T1         float64\n",
      "T2         float64\n",
      "T3         float64\n",
      "T4         float64\n",
      "T5         float64\n",
      "S1         float64\n",
      "S2         float64\n",
      "S3         float64\n",
      "dtype: object\n",
      "Checking for missing values \n",
      "\n",
      "I1          0\n",
      "I2          0\n",
      "I3          8\n",
      "P(IPO)      5\n",
      "P(H)       10\n",
      "P(L)       10\n",
      "P(1Day)    22\n",
      "C1         22\n",
      "C2         22\n",
      "C3         36\n",
      "C4         22\n",
      "C5          6\n",
      "C6          6\n",
      "C7         72\n",
      "T1          1\n",
      "T2          1\n",
      "T3          1\n",
      "T4          1\n",
      "T5          1\n",
      "S1          1\n",
      "S2          1\n",
      "S3          1\n",
      "dtype: int64\n"
     ]
    }
   ],
   "source": [
    "print('Checking the shape of our data \\n')\n",
    "print(df.shape)\n",
    "\n",
    "print('Checking the data types we have \\n')\n",
    "print(df.dtypes)\n",
    "\n",
    "print('Checking for missing values \\n')\n",
    "print(df.isna().sum())"
   ]
  },
  {
   "cell_type": "markdown",
   "metadata": {},
   "source": [
    "## Step 3: Formatting our data \n",
    "\n",
    "In order to make sure our data matches with our data dictionary, we need to convert certain columns to certain values. "
   ]
  },
  {
   "cell_type": "code",
   "execution_count": 4,
   "metadata": {},
   "outputs": [
    {
     "name": "stdout",
     "output_type": "stream",
     "text": [
      "I1          object\n",
      "I2          object\n",
      "I3          object\n",
      "P(IPO)     float64\n",
      "P(H)       float64\n",
      "P(L)       float64\n",
      "P(1Day)    float64\n",
      "C1         float64\n",
      "C2            bool\n",
      "C3         float64\n",
      "C4         float64\n",
      "C5         float64\n",
      "C6         float64\n",
      "C7         float64\n",
      "T1         float64\n",
      "T2         float64\n",
      "T3         float64\n",
      "T4         float64\n",
      "T5         float64\n",
      "S1         float64\n",
      "S2         float64\n",
      "S3         float64\n",
      "dtype: object\n"
     ]
    }
   ],
   "source": [
    "#need to convert these rows to the values as indicated by the Data Dictionary \n",
    "\n",
    "to_float = ['P(IPO)','P(H)', 'P(L)', 'P(1Day)', 'C1', 'C3', 'C4', 'C5', 'C6', 'C7', 'T1', 'T2', 'T3', 'T4', 'T5', 'S1', 'S2', 'S3']\n",
    "\n",
    "for col in to_float:\n",
    "    df[col]=pd.to_numeric(df[col], errors='coerce')\n",
    "df['C2'] = df['C2'].astype('bool') \n",
    "print(df.dtypes)"
   ]
  },
  {
   "cell_type": "code",
   "execution_count": 5,
   "metadata": {},
   "outputs": [
    {
     "name": "stdout",
     "output_type": "stream",
     "text": [
      "I1          0\n",
      "I2          0\n",
      "I3          0\n",
      "P(IPO)      0\n",
      "P(H)        0\n",
      "P(L)        0\n",
      "P(1Day)     0\n",
      "C1          0\n",
      "C2          0\n",
      "C3         24\n",
      "C4          0\n",
      "C5          0\n",
      "C6          0\n",
      "C7         60\n",
      "T1          0\n",
      "T2          0\n",
      "T3          0\n",
      "T4          0\n",
      "T5          0\n",
      "S1          0\n",
      "S2          0\n",
      "S3          0\n",
      "dtype: int64\n"
     ]
    }
   ],
   "source": [
    "df = df.dropna(subset=['P(1Day)'])\n",
    "print(df.isna().sum())"
   ]
  },
  {
   "cell_type": "code",
   "execution_count": 6,
   "metadata": {},
   "outputs": [
    {
     "name": "stderr",
     "output_type": "stream",
     "text": [
      "/opt/tljh/user/lib/python3.6/site-packages/numpy/lib/function_base.py:780: RuntimeWarning: invalid value encountered in greater_equal\n",
      "  keep = (tmp_a >= first_edge)\n",
      "/opt/tljh/user/lib/python3.6/site-packages/numpy/lib/function_base.py:781: RuntimeWarning: invalid value encountered in less_equal\n",
      "  keep &= (tmp_a <= last_edge)\n"
     ]
    },
    {
     "data": {
      "text/plain": [
       "Text(0.5, 1.0, 'Histogram of EPS ')"
      ]
     },
     "execution_count": 6,
     "metadata": {},
     "output_type": "execute_result"
    },
    {
     "data": {
      "image/png": "[encoded data removed]",
      "text/plain": [
       "<Figure size 432x288 with 1 Axes>"
      ]
     },
     "metadata": {},
     "output_type": "display_data"
    }
   ],
   "source": [
    "plt.hist(df[\"C3\"], bins=8, alpha=0.5)\n",
    "plt.xlabel('EPS')\n",
    "plt.ylabel('Count')\n",
    "plt.title('Histogram of EPS ')"
   ]
  },
  {
   "cell_type": "markdown",
   "metadata": {},
   "source": [
    "We have massive outliers so we can't use the mean for our imputation so we went with median instead. "
   ]
  },
  {
   "cell_type": "code",
   "execution_count": 7,
   "metadata": {},
   "outputs": [
    {
     "name": "stderr",
     "output_type": "stream",
     "text": [
      "/opt/tljh/user/lib/python3.6/site-packages/numpy/lib/function_base.py:780: RuntimeWarning: invalid value encountered in greater_equal\n",
      "  keep = (tmp_a >= first_edge)\n",
      "/opt/tljh/user/lib/python3.6/site-packages/numpy/lib/function_base.py:781: RuntimeWarning: invalid value encountered in less_equal\n",
      "  keep &= (tmp_a <= last_edge)\n"
     ]
    },
    {
     "data": {
      "text/plain": [
       "Text(0.5, 1.0, 'Histogram of Sales ')"
      ]
     },
     "execution_count": 7,
     "metadata": {},
     "output_type": "execute_result"
    },
    {
     "data": {
      "image/png": "[encoded data removed]",
      "text/plain": [
       "<Figure size 432x288 with 1 Axes>"
      ]
     },
     "metadata": {},
     "output_type": "display_data"
    }
   ],
   "source": [
    "plt.hist(df[\"C7\"], bins=8, alpha=0.5)\n",
    "plt.xlabel('Sales')\n",
    "plt.ylabel('Count')\n",
    "plt.title('Histogram of Sales ')"
   ]
  },
  {
   "cell_type": "code",
   "execution_count": 8,
   "metadata": {},
   "outputs": [
    {
     "name": "stdout",
     "output_type": "stream",
     "text": [
      "107.462\n"
     ]
    }
   ],
   "source": [
    "c7_median = df['C7'].median()\n",
    "print(c7_median)"
   ]
  },
  {
   "cell_type": "code",
   "execution_count": 9,
   "metadata": {},
   "outputs": [],
   "source": [
    "df['C7_Impute'] = np.where(df['C7'].isna(),1,0)\n",
    "df['C3_Impute'] = np.where(df['C3'].isna(),1,0)"
   ]
  },
  {
   "cell_type": "code",
   "execution_count": 10,
   "metadata": {},
   "outputs": [
    {
     "name": "stdout",
     "output_type": "stream",
     "text": [
      "107.462\n",
      "0.0\n"
     ]
    }
   ],
   "source": [
    "c7_median = df['C7'].median()\n",
    "print(c7_median)\n",
    "df['C7'] = df['C7'].fillna(c7_median)\n",
    "\n",
    "c3_median = df['C3'].median()\n",
    "print(c3_median)\n",
    "df['C3'] = df['C3'].fillna(c3_median)"
   ]
  },
  {
   "cell_type": "code",
   "execution_count": 11,
   "metadata": {},
   "outputs": [],
   "source": [
    "df.to_csv('outtest.csv')"
   ]
  }
 ],
 "metadata": {
  "kernelspec": {
   "display_name": "Python 3",
   "language": "python",
   "name": "python3"
  },
  "language_info": {
   "codemirror_mode": {
    "name": "ipython",
    "version": 3
   },
   "file_extension": ".py",
   "mimetype": "text/x-python",
   "name": "python",
   "nbconvert_exporter": "python",
   "pygments_lexer": "ipython3",
   "version": "3.6.5"
  }
 },
 "nbformat": 4,
 "nbformat_minor": 2
}
