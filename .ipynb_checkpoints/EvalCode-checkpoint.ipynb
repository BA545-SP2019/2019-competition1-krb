{
 "cells": [
  {
   "cell_type": "markdown",
   "metadata": {},
   "source": [
    "# Example Evaluation Code\n",
    "\n",
    "This notebook will be very __similar__ to the code I use to evaluate your results - it is provided for __your convenience__ so that you can use it to evaluate your preprocessing results at any time before your __final submission__.\n",
    "\n",
    "Please note that the results here will __NOT__ be the same as my evaluation results.\n",
    "\n",
    "Let's start with loading the required packages."
   ]
  },
  {
   "cell_type": "code",
   "execution_count": 1,
   "metadata": {
    "collapsed": false
   },
   "outputs": [],
   "source": [
    "# import required package for data handling\n",
    "import pandas as pd\n",
    "import numpy as np\n",
    "\n",
    "# import required packages for splitting data\n",
    "from sklearn import model_selection\n",
    "from sklearn.model_selection import cross_val_score\n",
    "from sklearn.model_selection import train_test_split\n",
    "\n",
    "# import required packages for evaluating models\n",
    "from sklearn import metrics\n",
    "from sklearn.metrics import confusion_matrix\n",
    "from sklearn.metrics import classification_report\n",
    "from sklearn.metrics import roc_auc_score\n",
    "from sklearn.metrics import accuracy_score\n",
    "from sklearn.metrics import precision_recall_fscore_support\n",
    "\n",
    "# import `logistic regression` model\n",
    "from sklearn.linear_model import LogisticRegression"
   ]
  },
  {
   "cell_type": "markdown",
   "metadata": {},
   "source": [
    "Next you should load __your__ data. In this case, I am using a sample dataset (`GroupX.csv`) which contains 6 predictors (`X1 - X6`) and two target variables (`Y1, Y2`).\n",
    "\n",
    "Please make sure you change the data to your __OWN__ dataset when using this code.\n",
    "\n",
    "__NOTE__:\n",
    "1. Your dataset maybe very different from the sample dataset.\n",
    "2. Please follow this structure when submitting your dataset."
   ]
  },
  {
   "cell_type": "code",
   "execution_count": 2,
   "metadata": {
    "collapsed": false
   },
   "outputs": [
    {
     "data": {
      "text/html": [
       "<div>\n",
       "<style scoped>\n",
       "    .dataframe tbody tr th:only-of-type {\n",
       "        vertical-align: middle;\n",
       "    }\n",
       "\n",
       "    .dataframe tbody tr th {\n",
       "        vertical-align: top;\n",
       "    }\n",
       "\n",
       "    .dataframe thead th {\n",
       "        text-align: right;\n",
       "    }\n",
       "</style>\n",
       "<table border=\"1\" class=\"dataframe\">\n",
       "  <thead>\n",
       "    <tr style=\"text-align: right;\">\n",
       "      <th></th>\n",
       "      <th>C5</th>\n",
       "      <th>C6</th>\n",
       "      <th>S1</th>\n",
       "      <th>C5_Prime</th>\n",
       "      <th>S2_Prime</th>\n",
       "      <th>industry_3</th>\n",
       "      <th>industry_4</th>\n",
       "      <th>market_cap</th>\n",
       "      <th>C6.1</th>\n",
       "      <th>T3</th>\n",
       "      <th>T4</th>\n",
       "      <th>T5</th>\n",
       "      <th>C6_Prime</th>\n",
       "      <th>industry_1</th>\n",
       "      <th>industry_2</th>\n",
       "      <th>market_cap.1</th>\n",
       "      <th>Y1</th>\n",
       "      <th>Y2</th>\n",
       "    </tr>\n",
       "  </thead>\n",
       "  <tbody>\n",
       "    <tr>\n",
       "      <th>0</th>\n",
       "      <td>-0.361185</td>\n",
       "      <td>-0.349281</td>\n",
       "      <td>0.059832</td>\n",
       "      <td>0.059268</td>\n",
       "      <td>0.209036</td>\n",
       "      <td>0</td>\n",
       "      <td>0</td>\n",
       "      <td>-0.036810</td>\n",
       "      <td>-0.349281</td>\n",
       "      <td>0.207212</td>\n",
       "      <td>0.188690</td>\n",
       "      <td>0.278060</td>\n",
       "      <td>1.173430</td>\n",
       "      <td>1</td>\n",
       "      <td>0</td>\n",
       "      <td>-0.036810</td>\n",
       "      <td>0</td>\n",
       "      <td>1</td>\n",
       "    </tr>\n",
       "    <tr>\n",
       "      <th>1</th>\n",
       "      <td>0.069935</td>\n",
       "      <td>1.776143</td>\n",
       "      <td>0.319447</td>\n",
       "      <td>2.293913</td>\n",
       "      <td>0.805934</td>\n",
       "      <td>0</td>\n",
       "      <td>0</td>\n",
       "      <td>-1.775824</td>\n",
       "      <td>1.776143</td>\n",
       "      <td>1.529156</td>\n",
       "      <td>1.269840</td>\n",
       "      <td>1.434842</td>\n",
       "      <td>-0.752809</td>\n",
       "      <td>1</td>\n",
       "      <td>0</td>\n",
       "      <td>-1.775824</td>\n",
       "      <td>1</td>\n",
       "      <td>0</td>\n",
       "    </tr>\n",
       "    <tr>\n",
       "      <th>2</th>\n",
       "      <td>0.763792</td>\n",
       "      <td>0.681625</td>\n",
       "      <td>0.028687</td>\n",
       "      <td>-0.210611</td>\n",
       "      <td>-1.005188</td>\n",
       "      <td>0</td>\n",
       "      <td>0</td>\n",
       "      <td>-1.164672</td>\n",
       "      <td>0.681625</td>\n",
       "      <td>-2.004492</td>\n",
       "      <td>-1.374575</td>\n",
       "      <td>-1.519869</td>\n",
       "      <td>-0.752809</td>\n",
       "      <td>1</td>\n",
       "      <td>0</td>\n",
       "      <td>-1.164672</td>\n",
       "      <td>1</td>\n",
       "      <td>0</td>\n",
       "    </tr>\n",
       "    <tr>\n",
       "      <th>3</th>\n",
       "      <td>0.931907</td>\n",
       "      <td>0.833137</td>\n",
       "      <td>0.548037</td>\n",
       "      <td>-0.251594</td>\n",
       "      <td>-0.592383</td>\n",
       "      <td>0</td>\n",
       "      <td>0</td>\n",
       "      <td>-0.766618</td>\n",
       "      <td>0.833137</td>\n",
       "      <td>-0.852998</td>\n",
       "      <td>-0.808074</td>\n",
       "      <td>-0.448508</td>\n",
       "      <td>-0.752809</td>\n",
       "      <td>1</td>\n",
       "      <td>0</td>\n",
       "      <td>-0.766618</td>\n",
       "      <td>1</td>\n",
       "      <td>1</td>\n",
       "    </tr>\n",
       "    <tr>\n",
       "      <th>4</th>\n",
       "      <td>-0.008601</td>\n",
       "      <td>-0.014742</td>\n",
       "      <td>0.208382</td>\n",
       "      <td>-0.012336</td>\n",
       "      <td>0.488652</td>\n",
       "      <td>1</td>\n",
       "      <td>0</td>\n",
       "      <td>0.463253</td>\n",
       "      <td>-0.014742</td>\n",
       "      <td>0.535298</td>\n",
       "      <td>0.406455</td>\n",
       "      <td>0.379697</td>\n",
       "      <td>0.723286</td>\n",
       "      <td>0</td>\n",
       "      <td>0</td>\n",
       "      <td>0.463253</td>\n",
       "      <td>0</td>\n",
       "      <td>1</td>\n",
       "    </tr>\n",
       "  </tbody>\n",
       "</table>\n",
       "</div>"
      ],
      "text/plain": [
       "         C5        C6        S1  C5_Prime  S2_Prime  industry_3  industry_4  \\\n",
       "0 -0.361185 -0.349281  0.059832  0.059268  0.209036           0           0   \n",
       "1  0.069935  1.776143  0.319447  2.293913  0.805934           0           0   \n",
       "2  0.763792  0.681625  0.028687 -0.210611 -1.005188           0           0   \n",
       "3  0.931907  0.833137  0.548037 -0.251594 -0.592383           0           0   \n",
       "4 -0.008601 -0.014742  0.208382 -0.012336  0.488652           1           0   \n",
       "\n",
       "   market_cap      C6.1        T3        T4        T5  C6_Prime  industry_1  \\\n",
       "0   -0.036810 -0.349281  0.207212  0.188690  0.278060  1.173430           1   \n",
       "1   -1.775824  1.776143  1.529156  1.269840  1.434842 -0.752809           1   \n",
       "2   -1.164672  0.681625 -2.004492 -1.374575 -1.519869 -0.752809           1   \n",
       "3   -0.766618  0.833137 -0.852998 -0.808074 -0.448508 -0.752809           1   \n",
       "4    0.463253 -0.014742  0.535298  0.406455  0.379697  0.723286           0   \n",
       "\n",
       "   industry_2  market_cap.1  Y1  Y2  \n",
       "0           0     -0.036810   0   1  \n",
       "1           0     -1.775824   1   0  \n",
       "2           0     -1.164672   1   0  \n",
       "3           0     -0.766618   1   1  \n",
       "4           0      0.463253   0   1  "
      ]
     },
     "execution_count": 2,
     "metadata": {},
     "output_type": "execute_result"
    }
   ],
   "source": [
    "data = pd.read_csv('datasets/group9.csv', header=0)\n",
    "data =data.drop(columns=['I1'])\n",
    "data.head()"
   ]
  },
  {
   "cell_type": "markdown",
   "metadata": {},
   "source": [
    "Checking your data types and make sure it follows the data dictionary would be an important step, you can do that using the `.dtypes` attribute.\n",
    "\n",
    "__NOTE__: all __continuous__ faetures will be in `float64` data type, and all __categorical__ features will be in `int64` data type (given you already coded (per __suggest task \\#6__ in the competition document) them)."
   ]
  },
  {
   "cell_type": "code",
   "execution_count": 3,
   "metadata": {
    "collapsed": false
   },
   "outputs": [
    {
     "data": {
      "text/plain": [
       "C5              float64\n",
       "C6              float64\n",
       "S1              float64\n",
       "C5_Prime        float64\n",
       "S2_Prime        float64\n",
       "industry_3        int64\n",
       "industry_4        int64\n",
       "market_cap      float64\n",
       "C6.1            float64\n",
       "T3              float64\n",
       "T4              float64\n",
       "T5              float64\n",
       "C6_Prime        float64\n",
       "industry_1        int64\n",
       "industry_2        int64\n",
       "market_cap.1    float64\n",
       "Y1                int64\n",
       "Y2                int64\n",
       "dtype: object"
      ]
     },
     "execution_count": 3,
     "metadata": {},
     "output_type": "execute_result"
    }
   ],
   "source": [
    "data.dtypes"
   ]
  },
  {
   "cell_type": "markdown",
   "metadata": {},
   "source": [
    "Now you need to specify your targets and predictors. __NOTE__ we have two targets here (`Y1, Y2`)."
   ]
  },
  {
   "cell_type": "code",
   "execution_count": 4,
   "metadata": {
    "collapsed": true
   },
   "outputs": [],
   "source": [
    "y1 = data.Y1\n",
    "y2 = data.Y2"
   ]
  },
  {
   "cell_type": "markdown",
   "metadata": {},
   "source": [
    "Check the shape of the data."
   ]
  },
  {
   "cell_type": "code",
   "execution_count": 5,
   "metadata": {
    "collapsed": false
   },
   "outputs": [
    {
     "data": {
      "text/plain": [
       "(660, 18)"
      ]
     },
     "execution_count": 5,
     "metadata": {},
     "output_type": "execute_result"
    }
   ],
   "source": [
    "data.shape"
   ]
  },
  {
   "cell_type": "markdown",
   "metadata": {},
   "source": [
    "It is very possible that you will use different sets of the predictors for `Y1` and `Y2`. Now let's define them.\n",
    "\n",
    "First, let's define predictors for `Y1` - which will be the first 5 features in `data`."
   ]
  },
  {
   "cell_type": "code",
   "execution_count": 6,
   "metadata": {
    "collapsed": false
   },
   "outputs": [
    {
     "data": {
      "text/plain": [
       "['C5',\n",
       " 'C6',\n",
       " 'S1',\n",
       " 'C5_Prime',\n",
       " 'S2_Prime',\n",
       " 'industry_3',\n",
       " 'industry_4',\n",
       " 'market_cap',\n",
       " 'C6.1',\n",
       " 'T3',\n",
       " 'T4',\n",
       " 'T5',\n",
       " 'C6_Prime',\n",
       " 'industry_1',\n",
       " 'industry_2',\n",
       " 'market_cap.1']"
      ]
     },
     "execution_count": 6,
     "metadata": {},
     "output_type": "execute_result"
    }
   ],
   "source": [
    "cols = list(data.columns)\n",
    "# first 5 features \n",
    "cols[:-2]"
   ]
  },
  {
   "cell_type": "markdown",
   "metadata": {},
   "source": [
    "Use below code to select the first 5 features as predictors for `Y1`."
   ]
  },
  {
   "cell_type": "code",
   "execution_count": 7,
   "metadata": {
    "collapsed": false
   },
   "outputs": [
    {
     "data": {
      "text/html": [
       "<div>\n",
       "<style scoped>\n",
       "    .dataframe tbody tr th:only-of-type {\n",
       "        vertical-align: middle;\n",
       "    }\n",
       "\n",
       "    .dataframe tbody tr th {\n",
       "        vertical-align: top;\n",
       "    }\n",
       "\n",
       "    .dataframe thead th {\n",
       "        text-align: right;\n",
       "    }\n",
       "</style>\n",
       "<table border=\"1\" class=\"dataframe\">\n",
       "  <thead>\n",
       "    <tr style=\"text-align: right;\">\n",
       "      <th></th>\n",
       "      <th>C5</th>\n",
       "      <th>C6</th>\n",
       "      <th>S1</th>\n",
       "      <th>C5_Prime</th>\n",
       "      <th>S2_Prime</th>\n",
       "      <th>industry_3</th>\n",
       "      <th>industry_4</th>\n",
       "      <th>market_cap</th>\n",
       "    </tr>\n",
       "  </thead>\n",
       "  <tbody>\n",
       "    <tr>\n",
       "      <th>0</th>\n",
       "      <td>-0.361185</td>\n",
       "      <td>-0.349281</td>\n",
       "      <td>0.059832</td>\n",
       "      <td>0.059268</td>\n",
       "      <td>0.209036</td>\n",
       "      <td>0</td>\n",
       "      <td>0</td>\n",
       "      <td>-0.036810</td>\n",
       "    </tr>\n",
       "    <tr>\n",
       "      <th>1</th>\n",
       "      <td>0.069935</td>\n",
       "      <td>1.776143</td>\n",
       "      <td>0.319447</td>\n",
       "      <td>2.293913</td>\n",
       "      <td>0.805934</td>\n",
       "      <td>0</td>\n",
       "      <td>0</td>\n",
       "      <td>-1.775824</td>\n",
       "    </tr>\n",
       "    <tr>\n",
       "      <th>2</th>\n",
       "      <td>0.763792</td>\n",
       "      <td>0.681625</td>\n",
       "      <td>0.028687</td>\n",
       "      <td>-0.210611</td>\n",
       "      <td>-1.005188</td>\n",
       "      <td>0</td>\n",
       "      <td>0</td>\n",
       "      <td>-1.164672</td>\n",
       "    </tr>\n",
       "    <tr>\n",
       "      <th>3</th>\n",
       "      <td>0.931907</td>\n",
       "      <td>0.833137</td>\n",
       "      <td>0.548037</td>\n",
       "      <td>-0.251594</td>\n",
       "      <td>-0.592383</td>\n",
       "      <td>0</td>\n",
       "      <td>0</td>\n",
       "      <td>-0.766618</td>\n",
       "    </tr>\n",
       "    <tr>\n",
       "      <th>4</th>\n",
       "      <td>-0.008601</td>\n",
       "      <td>-0.014742</td>\n",
       "      <td>0.208382</td>\n",
       "      <td>-0.012336</td>\n",
       "      <td>0.488652</td>\n",
       "      <td>1</td>\n",
       "      <td>0</td>\n",
       "      <td>0.463253</td>\n",
       "    </tr>\n",
       "  </tbody>\n",
       "</table>\n",
       "</div>"
      ],
      "text/plain": [
       "         C5        C6        S1  C5_Prime  S2_Prime  industry_3  industry_4  \\\n",
       "0 -0.361185 -0.349281  0.059832  0.059268  0.209036           0           0   \n",
       "1  0.069935  1.776143  0.319447  2.293913  0.805934           0           0   \n",
       "2  0.763792  0.681625  0.028687 -0.210611 -1.005188           0           0   \n",
       "3  0.931907  0.833137  0.548037 -0.251594 -0.592383           0           0   \n",
       "4 -0.008601 -0.014742  0.208382 -0.012336  0.488652           1           0   \n",
       "\n",
       "   market_cap  \n",
       "0   -0.036810  \n",
       "1   -1.775824  \n",
       "2   -1.164672  \n",
       "3   -0.766618  \n",
       "4    0.463253  "
      ]
     },
     "execution_count": 7,
     "metadata": {},
     "output_type": "execute_result"
    }
   ],
   "source": [
    "predictors_y1 = data[cols[:-10]]\n",
    "predictors_y1.head()"
   ]
  },
  {
   "cell_type": "markdown",
   "metadata": {},
   "source": [
    "Upon investigation of the data, we know we have __six__ features (`X1 - X6`) predicting `Y2`. Use similar code (as below) to select them."
   ]
  },
  {
   "cell_type": "code",
   "execution_count": 8,
   "metadata": {
    "collapsed": false
   },
   "outputs": [
    {
     "data": {
      "text/html": [
       "<div>\n",
       "<style scoped>\n",
       "    .dataframe tbody tr th:only-of-type {\n",
       "        vertical-align: middle;\n",
       "    }\n",
       "\n",
       "    .dataframe tbody tr th {\n",
       "        vertical-align: top;\n",
       "    }\n",
       "\n",
       "    .dataframe thead th {\n",
       "        text-align: right;\n",
       "    }\n",
       "</style>\n",
       "<table border=\"1\" class=\"dataframe\">\n",
       "  <thead>\n",
       "    <tr style=\"text-align: right;\">\n",
       "      <th></th>\n",
       "      <th>C6.1</th>\n",
       "      <th>T3</th>\n",
       "      <th>T4</th>\n",
       "      <th>T5</th>\n",
       "      <th>C6_Prime</th>\n",
       "      <th>industry_1</th>\n",
       "      <th>industry_2</th>\n",
       "      <th>market_cap.1</th>\n",
       "    </tr>\n",
       "  </thead>\n",
       "  <tbody>\n",
       "    <tr>\n",
       "      <th>0</th>\n",
       "      <td>-0.349281</td>\n",
       "      <td>0.207212</td>\n",
       "      <td>0.188690</td>\n",
       "      <td>0.278060</td>\n",
       "      <td>1.173430</td>\n",
       "      <td>1</td>\n",
       "      <td>0</td>\n",
       "      <td>-0.036810</td>\n",
       "    </tr>\n",
       "    <tr>\n",
       "      <th>1</th>\n",
       "      <td>1.776143</td>\n",
       "      <td>1.529156</td>\n",
       "      <td>1.269840</td>\n",
       "      <td>1.434842</td>\n",
       "      <td>-0.752809</td>\n",
       "      <td>1</td>\n",
       "      <td>0</td>\n",
       "      <td>-1.775824</td>\n",
       "    </tr>\n",
       "    <tr>\n",
       "      <th>2</th>\n",
       "      <td>0.681625</td>\n",
       "      <td>-2.004492</td>\n",
       "      <td>-1.374575</td>\n",
       "      <td>-1.519869</td>\n",
       "      <td>-0.752809</td>\n",
       "      <td>1</td>\n",
       "      <td>0</td>\n",
       "      <td>-1.164672</td>\n",
       "    </tr>\n",
       "    <tr>\n",
       "      <th>3</th>\n",
       "      <td>0.833137</td>\n",
       "      <td>-0.852998</td>\n",
       "      <td>-0.808074</td>\n",
       "      <td>-0.448508</td>\n",
       "      <td>-0.752809</td>\n",
       "      <td>1</td>\n",
       "      <td>0</td>\n",
       "      <td>-0.766618</td>\n",
       "    </tr>\n",
       "    <tr>\n",
       "      <th>4</th>\n",
       "      <td>-0.014742</td>\n",
       "      <td>0.535298</td>\n",
       "      <td>0.406455</td>\n",
       "      <td>0.379697</td>\n",
       "      <td>0.723286</td>\n",
       "      <td>0</td>\n",
       "      <td>0</td>\n",
       "      <td>0.463253</td>\n",
       "    </tr>\n",
       "  </tbody>\n",
       "</table>\n",
       "</div>"
      ],
      "text/plain": [
       "       C6.1        T3        T4        T5  C6_Prime  industry_1  industry_2  \\\n",
       "0 -0.349281  0.207212  0.188690  0.278060  1.173430           1           0   \n",
       "1  1.776143  1.529156  1.269840  1.434842 -0.752809           1           0   \n",
       "2  0.681625 -2.004492 -1.374575 -1.519869 -0.752809           1           0   \n",
       "3  0.833137 -0.852998 -0.808074 -0.448508 -0.752809           1           0   \n",
       "4 -0.014742  0.535298  0.406455  0.379697  0.723286           0           0   \n",
       "\n",
       "   market_cap.1  \n",
       "0     -0.036810  \n",
       "1     -1.775824  \n",
       "2     -1.164672  \n",
       "3     -0.766618  \n",
       "4      0.463253  "
      ]
     },
     "execution_count": 8,
     "metadata": {},
     "output_type": "execute_result"
    }
   ],
   "source": [
    "predictors_y2 = data[cols[8:-2]]\n",
    "predictors_y2.head()"
   ]
  },
  {
   "cell_type": "markdown",
   "metadata": {},
   "source": [
    "Below is the key part of this notebook - which generates a `logistic regression` model to predict `Y1`/`Y2`.\n",
    "\n",
    "The code works this way:\n",
    "\n",
    "1. We generate two lists `f1_score_lst` and `auc_lst` to store f1_score and AUC from each of the `10` runs of the model;\n",
    "2. Define model:\n",
    "    1. We define a `LogisticRegression()` model;\n",
    "    \n",
    "    2. We split predictors (`predictors_y1`) and target `y1` to training (80%) and testing (20%);\n",
    "    \n",
    "    3. We fit the model `clf` to the training data, then use it to predict on the testing data;\n",
    "    \n",
    "    4. We also defined a `10-fold cross validation` to make sure our model do not overfit - see [here](https://scikit-learn.org/stable/modules/cross_validation.html) for more info;\n",
    "    \n",
    "    5. We append the f1_score and AUC of current model to the lists (`f1_score_lst` and `auc_lst`) we defined earlier.\n",
    "  \n",
    "3. Print out average f1_score and AUC for all 10 runs;\n",
    "4. Print out average average accuracy from cross validation\n",
    "5. Print out confusion matrix and classification report for the __last__ model.\n",
    "\n",
    "__NOTE__: Step 3 provides the evaluation results we need; step 4 - 5 can be used to verify the results from step 3."
   ]
  },
  {
   "cell_type": "code",
   "execution_count": 9,
   "metadata": {
    "collapsed": false
   },
   "outputs": [
    {
     "name": "stdout",
     "output_type": "stream",
     "text": [
      "F1 0.8267; AUC 0.8269 \n",
      "Accuracy of classifier on test set: 0.83\n",
      "10-fold cross validation average accuracy of classifier: 0.727\n",
      "Confusion Matrix for Logistic Regression Classfier:\n",
      "[[64 14]\n",
      " [ 9 45]]\n",
      "Classification Report for Logistic Regression Classfier:\n",
      "             precision    recall  f1-score   support\n",
      "\n",
      "          0       0.88      0.82      0.85        78\n",
      "          1       0.76      0.83      0.80        54\n",
      "\n",
      "avg / total       0.83      0.83      0.83       132\n",
      "\n"
     ]
    }
   ],
   "source": [
    "# lists for f1-score and AUC\n",
    "f1_score_lst = []\n",
    "auc_lst = []\n",
    "\n",
    "\n",
    "#loop to calculate f1 and auc scores and present averages after 10 runs\n",
    "for count in range (1,1000):\n",
    "    #Model building\n",
    "    clf = LogisticRegression()\n",
    "    X1_train, X1_test, y1_train, y1_test = train_test_split(predictors_y1, y1, test_size=0.2, random_state=123)\n",
    "    clf.fit(X1_train, y1_train)\n",
    "\n",
    "    y1_pred = clf.predict(X1_test)\n",
    "\n",
    "    \n",
    "    #10-fold cross validation\n",
    "    kfold = model_selection.KFold(n_splits=10, random_state=7)\n",
    "    scoring = 'accuracy'\n",
    "    results = model_selection.cross_val_score(clf, X1_train, y1_train, cv=kfold, scoring=scoring)\n",
    "\n",
    "    \n",
    "\n",
    "    \n",
    "    #calculate f1-score and AUC\n",
    "    \n",
    "    clf_roc_auc = roc_auc_score(y1_test, y1_pred)\n",
    "    f1_score_lst.append(precision_recall_fscore_support(y1_test, y1_pred, average='weighted')[2])\n",
    "    auc_lst.append(clf_roc_auc)\n",
    "\n",
    "\n",
    "print('F1 {:.4f}; AUC {:.4f} '.format(np.mean(f1_score_lst),np.mean(auc_lst)))\n",
    "\n",
    "#result=logit_model.fit()\n",
    "confusion_matrix_y1 = confusion_matrix(y1_test, y1_pred)\n",
    "\n",
    "\n",
    "#print(result.summary())\n",
    "print('Accuracy of classifier on test set: {:.2f}'.format(clf.score(X1_test, y1_test)))\n",
    "\n",
    "print(\"10-fold cross validation average accuracy of classifier: %.3f\" % (results.mean()))\n",
    "\n",
    "print('Confusion Matrix for Logistic Regression Classfier:')\n",
    "print(confusion_matrix_y1)\n",
    "\n",
    "print('Classification Report for Logistic Regression Classfier:')\n",
    "print(classification_report(y1_test, y1_pred))\n"
   ]
  },
  {
   "cell_type": "markdown",
   "metadata": {},
   "source": [
    "Below code are used to evaluate model toward `Y2`. It is very similar to the code above - key difference is that `Y2` is imbalanced - so I wrote some code (under `# Begin oversampling`) to deal with that."
   ]
  },
  {
   "cell_type": "code",
   "execution_count": 10,
   "metadata": {
    "collapsed": false
   },
   "outputs": [
    {
     "name": "stdout",
     "output_type": "stream",
     "text": [
      "F1 0.6261; AUC 0.6174 \n",
      "Accuracy of classifier on test set: 0.614\n",
      "10-fold cross validation average accuracy of clf1: 0.596\n",
      "Confusion Matrix for Classfier:\n",
      "[[23 13]\n",
      " [38 58]]\n",
      "Classification Report for Classfier:\n",
      "             precision    recall  f1-score   support\n",
      "\n",
      "          0       0.38      0.64      0.47        36\n",
      "          1       0.82      0.60      0.69        96\n",
      "\n",
      "avg / total       0.70      0.61      0.63       132\n",
      "\n"
     ]
    }
   ],
   "source": [
    "# lists for f1-score and AUC\n",
    "f1_score_lst = []\n",
    "auc_lst = []\n",
    "\n",
    "\n",
    "#loop to calculate f1 and auc scores and present averages after 10 runs\n",
    "for count in range (1,1000):\n",
    "    #Model building\n",
    "    clf1 = LogisticRegression()\n",
    "\n",
    "    \n",
    "    # Splitting data into testing and training\n",
    "    X2_train, X2_test, y2_train, y2_test = train_test_split(predictors_y2, y2, test_size=0.2, random_state=123)\n",
    "    \n",
    "    # Begin oversampling\n",
    "    oversample = pd.concat([X2_train,y2_train],axis=1)\n",
    "    max_size = oversample['Y2'].value_counts().max()\n",
    "    lst = [oversample]\n",
    "    for class_index, group in oversample.groupby('Y2'):\n",
    "        lst.append(group.sample(max_size-len(group), replace=True))\n",
    "    X2_train = pd.concat(lst)\n",
    "    y2_train=pd.DataFrame.copy(X2_train['Y2'])\n",
    "    del X2_train['Y2']\n",
    "    \n",
    "    # fitting model on oversampled data\n",
    "    clf1.fit(X2_train, y2_train)\n",
    "    \n",
    "    y2_pred = clf1.predict(X2_test)\n",
    "    \n",
    "    \n",
    "    #10-fold cross validation\n",
    "    kfold = model_selection.KFold(n_splits=10, random_state=123)\n",
    "    scoring = 'accuracy'\n",
    "    results = model_selection.cross_val_score(clf1, X2_train, y2_train, cv=kfold, scoring=scoring)\n",
    "    \n",
    "    #calculate f1-score and AUC\n",
    "    \n",
    "    clf1_roc_auc = roc_auc_score(y2_test, y2_pred)\n",
    "    \n",
    "    \n",
    "    #calculate average f1-score and AUC\n",
    "    f1_score_lst.append(precision_recall_fscore_support(y2_test, y2_pred, average='weighted')[2])\n",
    "    auc_lst.append(clf1_roc_auc)\n",
    "    \n",
    "    \n",
    "print('F1 {:.4f}; AUC {:.4f} '.format(np.mean(f1_score_lst),np.mean(auc_lst)))\n",
    "\n",
    "confusion_matrix_y2 = confusion_matrix(y2_test, y2_pred)\n",
    "\n",
    "\n",
    "print('Accuracy of classifier on test set: {:.3f}'.format(clf1.score(X2_test, y2_test)))\n",
    "\n",
    "print(\"10-fold cross validation average accuracy of clf1: %.3f\" % (results.mean()))\n",
    "\n",
    "print('Confusion Matrix for Classfier:')\n",
    "print(confusion_matrix_y2)\n",
    "\n",
    "print('Classification Report for Classfier:')\n",
    "print(classification_report(y2_test, y2_pred))\n"
   ]
  },
  {
   "cell_type": "code",
   "execution_count": null,
   "metadata": {},
   "outputs": [],
   "source": []
  }
 ],
 "metadata": {
  "kernelspec": {
   "display_name": "Python 3",
   "language": "python",
   "name": "python3"
  },
  "language_info": {
   "codemirror_mode": {
    "name": "ipython",
    "version": 3
   },
   "file_extension": ".py",
   "mimetype": "text/x-python",
   "name": "python",
   "nbconvert_exporter": "python",
   "pygments_lexer": "ipython3",
   "version": "3.6.5"
  }
 },
 "nbformat": 4,
 "nbformat_minor": 2
}
