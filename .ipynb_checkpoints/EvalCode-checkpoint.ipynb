{
 "cells": [
  {
   "cell_type": "markdown",
   "metadata": {},
   "source": [
    "# Example Evaluation Code\n",
    "\n",
    "This notebook will be very __similar__ to the code I use to evaluate your results - it is provided for __your convenience__ so that you can use it to evaluate your preprocessing results at any time before your __final submission__.\n",
    "\n",
    "Please note that the results here will __NOT__ be the same as my evaluation results.\n",
    "\n",
    "Let's start with loading the required packages."
   ]
  },
  {
   "cell_type": "code",
   "execution_count": 1,
   "metadata": {
    "collapsed": false
   },
   "outputs": [],
   "source": [
    "# import required package for data handling\n",
    "import pandas as pd\n",
    "import numpy as np\n",
    "\n",
    "# import required packages for splitting data\n",
    "from sklearn import model_selection\n",
    "from sklearn.model_selection import cross_val_score\n",
    "from sklearn.model_selection import train_test_split\n",
    "\n",
    "# import required packages for evaluating models\n",
    "from sklearn import metrics\n",
    "from sklearn.metrics import confusion_matrix\n",
    "from sklearn.metrics import classification_report\n",
    "from sklearn.metrics import roc_auc_score\n",
    "from sklearn.metrics import accuracy_score\n",
    "from sklearn.metrics import precision_recall_fscore_support\n",
    "\n",
    "# import `logistic regression` model\n",
    "from sklearn.linear_model import LogisticRegression"
   ]
  },
  {
   "cell_type": "markdown",
   "metadata": {},
   "source": [
    "Next you should load __your__ data. In this case, I am using a sample dataset (`GroupX.csv`) which contains 6 predictors (`X1 - X6`) and two target variables (`Y1, Y2`).\n",
    "\n",
    "Please make sure you change the data to your __OWN__ dataset when using this code.\n",
    "\n",
    "__NOTE__:\n",
    "1. Your dataset maybe very different from the sample dataset.\n",
    "2. Please follow this structure when submitting your dataset."
   ]
  },
  {
   "cell_type": "code",
   "execution_count": 2,
   "metadata": {
    "collapsed": false
   },
   "outputs": [
    {
     "data": {
      "text/html": [
       "<div>\n",
       "<style scoped>\n",
       "    .dataframe tbody tr th:only-of-type {\n",
       "        vertical-align: middle;\n",
       "    }\n",
       "\n",
       "    .dataframe tbody tr th {\n",
       "        vertical-align: top;\n",
       "    }\n",
       "\n",
       "    .dataframe thead th {\n",
       "        text-align: right;\n",
       "    }\n",
       "</style>\n",
       "<table border=\"1\" class=\"dataframe\">\n",
       "  <thead>\n",
       "    <tr style=\"text-align: right;\">\n",
       "      <th></th>\n",
       "      <th>C3</th>\n",
       "      <th>C4</th>\n",
       "      <th>C5</th>\n",
       "      <th>C7</th>\n",
       "      <th>S1</th>\n",
       "      <th>S2</th>\n",
       "      <th>C5_Prime</th>\n",
       "      <th>S2_Prime</th>\n",
       "      <th>C3.1</th>\n",
       "      <th>C5.1</th>\n",
       "      <th>C7.1</th>\n",
       "      <th>T4</th>\n",
       "      <th>S1.1</th>\n",
       "      <th>S2.1</th>\n",
       "      <th>C6_Prime</th>\n",
       "      <th>industry_3</th>\n",
       "      <th>Y1</th>\n",
       "      <th>Y2</th>\n",
       "    </tr>\n",
       "  </thead>\n",
       "  <tbody>\n",
       "    <tr>\n",
       "      <th>0</th>\n",
       "      <td>0.510248</td>\n",
       "      <td>0.499610</td>\n",
       "      <td>0.867762</td>\n",
       "      <td>0.302904</td>\n",
       "      <td>0.100460</td>\n",
       "      <td>0.517723</td>\n",
       "      <td>0.073712</td>\n",
       "      <td>0.108261</td>\n",
       "      <td>0.510248</td>\n",
       "      <td>0.867762</td>\n",
       "      <td>0.302904</td>\n",
       "      <td>0.382762</td>\n",
       "      <td>0.100460</td>\n",
       "      <td>0.517723</td>\n",
       "      <td>0.042462</td>\n",
       "      <td>0</td>\n",
       "      <td>0</td>\n",
       "      <td>1</td>\n",
       "    </tr>\n",
       "    <tr>\n",
       "      <th>1</th>\n",
       "      <td>0.462852</td>\n",
       "      <td>0.439534</td>\n",
       "      <td>0.675813</td>\n",
       "      <td>0.315389</td>\n",
       "      <td>0.165311</td>\n",
       "      <td>0.333895</td>\n",
       "      <td>0.331765</td>\n",
       "      <td>0.186280</td>\n",
       "      <td>0.462852</td>\n",
       "      <td>0.675813</td>\n",
       "      <td>0.315389</td>\n",
       "      <td>0.593209</td>\n",
       "      <td>0.165311</td>\n",
       "      <td>0.333895</td>\n",
       "      <td>0.000000</td>\n",
       "      <td>0</td>\n",
       "      <td>1</td>\n",
       "      <td>0</td>\n",
       "    </tr>\n",
       "    <tr>\n",
       "      <th>2</th>\n",
       "      <td>0.448700</td>\n",
       "      <td>0.526262</td>\n",
       "      <td>0.865527</td>\n",
       "      <td>0.319897</td>\n",
       "      <td>0.245308</td>\n",
       "      <td>0.575045</td>\n",
       "      <td>0.158400</td>\n",
       "      <td>0.180401</td>\n",
       "      <td>0.448700</td>\n",
       "      <td>0.865527</td>\n",
       "      <td>0.319897</td>\n",
       "      <td>0.389220</td>\n",
       "      <td>0.245308</td>\n",
       "      <td>0.575045</td>\n",
       "      <td>0.000000</td>\n",
       "      <td>0</td>\n",
       "      <td>1</td>\n",
       "      <td>0</td>\n",
       "    </tr>\n",
       "    <tr>\n",
       "      <th>3</th>\n",
       "      <td>0.447811</td>\n",
       "      <td>0.532316</td>\n",
       "      <td>0.756228</td>\n",
       "      <td>0.339262</td>\n",
       "      <td>0.366535</td>\n",
       "      <td>0.464781</td>\n",
       "      <td>0.176120</td>\n",
       "      <td>0.233425</td>\n",
       "      <td>0.447811</td>\n",
       "      <td>0.756228</td>\n",
       "      <td>0.339262</td>\n",
       "      <td>0.487378</td>\n",
       "      <td>0.366535</td>\n",
       "      <td>0.464781</td>\n",
       "      <td>0.000000</td>\n",
       "      <td>0</td>\n",
       "      <td>1</td>\n",
       "      <td>1</td>\n",
       "    </tr>\n",
       "    <tr>\n",
       "      <th>4</th>\n",
       "      <td>0.495921</td>\n",
       "      <td>0.405051</td>\n",
       "      <td>0.795712</td>\n",
       "      <td>0.388742</td>\n",
       "      <td>0.146174</td>\n",
       "      <td>0.431454</td>\n",
       "      <td>0.095218</td>\n",
       "      <td>0.158148</td>\n",
       "      <td>0.495921</td>\n",
       "      <td>0.795712</td>\n",
       "      <td>0.388742</td>\n",
       "      <td>0.466733</td>\n",
       "      <td>0.146174</td>\n",
       "      <td>0.431454</td>\n",
       "      <td>0.025452</td>\n",
       "      <td>1</td>\n",
       "      <td>0</td>\n",
       "      <td>1</td>\n",
       "    </tr>\n",
       "  </tbody>\n",
       "</table>\n",
       "</div>"
      ],
      "text/plain": [
       "         C3        C4        C5        C7        S1        S2  C5_Prime  \\\n",
       "0  0.510248  0.499610  0.867762  0.302904  0.100460  0.517723  0.073712   \n",
       "1  0.462852  0.439534  0.675813  0.315389  0.165311  0.333895  0.331765   \n",
       "2  0.448700  0.526262  0.865527  0.319897  0.245308  0.575045  0.158400   \n",
       "3  0.447811  0.532316  0.756228  0.339262  0.366535  0.464781  0.176120   \n",
       "4  0.495921  0.405051  0.795712  0.388742  0.146174  0.431454  0.095218   \n",
       "\n",
       "   S2_Prime      C3.1      C5.1      C7.1        T4      S1.1      S2.1  \\\n",
       "0  0.108261  0.510248  0.867762  0.302904  0.382762  0.100460  0.517723   \n",
       "1  0.186280  0.462852  0.675813  0.315389  0.593209  0.165311  0.333895   \n",
       "2  0.180401  0.448700  0.865527  0.319897  0.389220  0.245308  0.575045   \n",
       "3  0.233425  0.447811  0.756228  0.339262  0.487378  0.366535  0.464781   \n",
       "4  0.158148  0.495921  0.795712  0.388742  0.466733  0.146174  0.431454   \n",
       "\n",
       "   C6_Prime  industry_3  Y1  Y2  \n",
       "0  0.042462           0   0   1  \n",
       "1  0.000000           0   1   0  \n",
       "2  0.000000           0   1   0  \n",
       "3  0.000000           0   1   1  \n",
       "4  0.025452           1   0   1  "
      ]
     },
     "execution_count": 2,
     "metadata": {},
     "output_type": "execute_result"
    }
   ],
   "source": [
    "data = pd.read_csv('FinalOutput.csv', header=0)\n",
    "data =data.drop(columns=['Unnamed: 0'])\n",
    "data.head()"
   ]
  },
  {
   "cell_type": "markdown",
   "metadata": {},
   "source": [
    "Checking your data types and make sure it follows the data dictionary would be an important step, you can do that using the `.dtypes` attribute.\n",
    "\n",
    "__NOTE__: all __continuous__ faetures will be in `float64` data type, and all __categorical__ features will be in `int64` data type (given you already coded (per __suggest task \\#6__ in the competition document) them)."
   ]
  },
  {
   "cell_type": "markdown",
   "metadata": {},
   "source": [
    "data['industry_3'] = data['industry_3'].astype('category')\n",
    "data['industry_4'] = data['industry_4'].astype('category')\n",
    "data['industry_5'] = data['industry_5'].astype('category')"
   ]
  },
  {
   "cell_type": "code",
   "execution_count": 3,
   "metadata": {
    "collapsed": false
   },
   "outputs": [
    {
     "data": {
      "text/plain": [
       "C3            float64\n",
       "C4            float64\n",
       "C5            float64\n",
       "C7            float64\n",
       "S1            float64\n",
       "S2            float64\n",
       "C5_Prime      float64\n",
       "S2_Prime      float64\n",
       "C3.1          float64\n",
       "C5.1          float64\n",
       "C7.1          float64\n",
       "T4            float64\n",
       "S1.1          float64\n",
       "S2.1          float64\n",
       "C6_Prime      float64\n",
       "industry_3      int64\n",
       "Y1              int64\n",
       "Y2              int64\n",
       "dtype: object"
      ]
     },
     "execution_count": 3,
     "metadata": {},
     "output_type": "execute_result"
    }
   ],
   "source": [
    "data.dtypes"
   ]
  },
  {
   "cell_type": "markdown",
   "metadata": {},
   "source": [
    "Now you need to specify your targets and predictors. __NOTE__ we have two targets here (`Y1, Y2`)."
   ]
  },
  {
   "cell_type": "code",
   "execution_count": 4,
   "metadata": {
    "collapsed": true
   },
   "outputs": [],
   "source": [
    "y1 = data.Y1\n",
    "y2 = data.Y2"
   ]
  },
  {
   "cell_type": "markdown",
   "metadata": {},
   "source": [
    "Check the shape of the data."
   ]
  },
  {
   "cell_type": "code",
   "execution_count": 5,
   "metadata": {
    "collapsed": false
   },
   "outputs": [
    {
     "data": {
      "text/plain": [
       "(660, 18)"
      ]
     },
     "execution_count": 5,
     "metadata": {},
     "output_type": "execute_result"
    }
   ],
   "source": [
    "data.shape"
   ]
  },
  {
   "cell_type": "markdown",
   "metadata": {},
   "source": [
    "It is very possible that you will use different sets of the predictors for `Y1` and `Y2`. Now let's define them.\n",
    "\n",
    "First, let's define predictors for `Y1` - which will be the first 5 features in `data`."
   ]
  },
  {
   "cell_type": "code",
   "execution_count": 6,
   "metadata": {
    "collapsed": false
   },
   "outputs": [
    {
     "data": {
      "text/plain": [
       "['C3',\n",
       " 'C4',\n",
       " 'C5',\n",
       " 'C7',\n",
       " 'S1',\n",
       " 'S2',\n",
       " 'C5_Prime',\n",
       " 'S2_Prime',\n",
       " 'C3.1',\n",
       " 'C5.1',\n",
       " 'C7.1',\n",
       " 'T4',\n",
       " 'S1.1',\n",
       " 'S2.1',\n",
       " 'C6_Prime',\n",
       " 'industry_3']"
      ]
     },
     "execution_count": 6,
     "metadata": {},
     "output_type": "execute_result"
    }
   ],
   "source": [
    "cols = list(data.columns)\n",
    "# first 5 features \n",
    "cols[:-2]"
   ]
  },
  {
   "cell_type": "markdown",
   "metadata": {},
   "source": [
    "Use below code to select the first 5 features as predictors for `Y1`."
   ]
  },
  {
   "cell_type": "code",
   "execution_count": 7,
   "metadata": {
    "collapsed": false
   },
   "outputs": [
    {
     "data": {
      "text/html": [
       "<div>\n",
       "<style scoped>\n",
       "    .dataframe tbody tr th:only-of-type {\n",
       "        vertical-align: middle;\n",
       "    }\n",
       "\n",
       "    .dataframe tbody tr th {\n",
       "        vertical-align: top;\n",
       "    }\n",
       "\n",
       "    .dataframe thead th {\n",
       "        text-align: right;\n",
       "    }\n",
       "</style>\n",
       "<table border=\"1\" class=\"dataframe\">\n",
       "  <thead>\n",
       "    <tr style=\"text-align: right;\">\n",
       "      <th></th>\n",
       "      <th>C3</th>\n",
       "      <th>C4</th>\n",
       "      <th>C5</th>\n",
       "      <th>C7</th>\n",
       "      <th>S1</th>\n",
       "      <th>S2</th>\n",
       "      <th>C5_Prime</th>\n",
       "      <th>S2_Prime</th>\n",
       "    </tr>\n",
       "  </thead>\n",
       "  <tbody>\n",
       "    <tr>\n",
       "      <th>0</th>\n",
       "      <td>0.510248</td>\n",
       "      <td>0.499610</td>\n",
       "      <td>0.867762</td>\n",
       "      <td>0.302904</td>\n",
       "      <td>0.100460</td>\n",
       "      <td>0.517723</td>\n",
       "      <td>0.073712</td>\n",
       "      <td>0.108261</td>\n",
       "    </tr>\n",
       "    <tr>\n",
       "      <th>1</th>\n",
       "      <td>0.462852</td>\n",
       "      <td>0.439534</td>\n",
       "      <td>0.675813</td>\n",
       "      <td>0.315389</td>\n",
       "      <td>0.165311</td>\n",
       "      <td>0.333895</td>\n",
       "      <td>0.331765</td>\n",
       "      <td>0.186280</td>\n",
       "    </tr>\n",
       "    <tr>\n",
       "      <th>2</th>\n",
       "      <td>0.448700</td>\n",
       "      <td>0.526262</td>\n",
       "      <td>0.865527</td>\n",
       "      <td>0.319897</td>\n",
       "      <td>0.245308</td>\n",
       "      <td>0.575045</td>\n",
       "      <td>0.158400</td>\n",
       "      <td>0.180401</td>\n",
       "    </tr>\n",
       "    <tr>\n",
       "      <th>3</th>\n",
       "      <td>0.447811</td>\n",
       "      <td>0.532316</td>\n",
       "      <td>0.756228</td>\n",
       "      <td>0.339262</td>\n",
       "      <td>0.366535</td>\n",
       "      <td>0.464781</td>\n",
       "      <td>0.176120</td>\n",
       "      <td>0.233425</td>\n",
       "    </tr>\n",
       "    <tr>\n",
       "      <th>4</th>\n",
       "      <td>0.495921</td>\n",
       "      <td>0.405051</td>\n",
       "      <td>0.795712</td>\n",
       "      <td>0.388742</td>\n",
       "      <td>0.146174</td>\n",
       "      <td>0.431454</td>\n",
       "      <td>0.095218</td>\n",
       "      <td>0.158148</td>\n",
       "    </tr>\n",
       "  </tbody>\n",
       "</table>\n",
       "</div>"
      ],
      "text/plain": [
       "         C3        C4        C5        C7        S1        S2  C5_Prime  \\\n",
       "0  0.510248  0.499610  0.867762  0.302904  0.100460  0.517723  0.073712   \n",
       "1  0.462852  0.439534  0.675813  0.315389  0.165311  0.333895  0.331765   \n",
       "2  0.448700  0.526262  0.865527  0.319897  0.245308  0.575045  0.158400   \n",
       "3  0.447811  0.532316  0.756228  0.339262  0.366535  0.464781  0.176120   \n",
       "4  0.495921  0.405051  0.795712  0.388742  0.146174  0.431454  0.095218   \n",
       "\n",
       "   S2_Prime  \n",
       "0  0.108261  \n",
       "1  0.186280  \n",
       "2  0.180401  \n",
       "3  0.233425  \n",
       "4  0.158148  "
      ]
     },
     "execution_count": 7,
     "metadata": {},
     "output_type": "execute_result"
    }
   ],
   "source": [
    "predictors_y1 = data[cols[:8]]\n",
    "predictors_y1.head()"
   ]
  },
  {
   "cell_type": "markdown",
   "metadata": {},
   "source": [
    "Upon investigation of the data, we know we have __six__ features (`X1 - X6`) predicting `Y2`. Use similar code (as below) to select them."
   ]
  },
  {
   "cell_type": "code",
   "execution_count": 8,
   "metadata": {
    "collapsed": false
   },
   "outputs": [
    {
     "data": {
      "text/html": [
       "<div>\n",
       "<style scoped>\n",
       "    .dataframe tbody tr th:only-of-type {\n",
       "        vertical-align: middle;\n",
       "    }\n",
       "\n",
       "    .dataframe tbody tr th {\n",
       "        vertical-align: top;\n",
       "    }\n",
       "\n",
       "    .dataframe thead th {\n",
       "        text-align: right;\n",
       "    }\n",
       "</style>\n",
       "<table border=\"1\" class=\"dataframe\">\n",
       "  <thead>\n",
       "    <tr style=\"text-align: right;\">\n",
       "      <th></th>\n",
       "      <th>C3.1</th>\n",
       "      <th>C5.1</th>\n",
       "      <th>C7.1</th>\n",
       "      <th>T4</th>\n",
       "      <th>S1.1</th>\n",
       "      <th>S2.1</th>\n",
       "      <th>C6_Prime</th>\n",
       "      <th>industry_3</th>\n",
       "    </tr>\n",
       "  </thead>\n",
       "  <tbody>\n",
       "    <tr>\n",
       "      <th>0</th>\n",
       "      <td>0.510248</td>\n",
       "      <td>0.867762</td>\n",
       "      <td>0.302904</td>\n",
       "      <td>0.382762</td>\n",
       "      <td>0.100460</td>\n",
       "      <td>0.517723</td>\n",
       "      <td>0.042462</td>\n",
       "      <td>0</td>\n",
       "    </tr>\n",
       "    <tr>\n",
       "      <th>1</th>\n",
       "      <td>0.462852</td>\n",
       "      <td>0.675813</td>\n",
       "      <td>0.315389</td>\n",
       "      <td>0.593209</td>\n",
       "      <td>0.165311</td>\n",
       "      <td>0.333895</td>\n",
       "      <td>0.000000</td>\n",
       "      <td>0</td>\n",
       "    </tr>\n",
       "    <tr>\n",
       "      <th>2</th>\n",
       "      <td>0.448700</td>\n",
       "      <td>0.865527</td>\n",
       "      <td>0.319897</td>\n",
       "      <td>0.389220</td>\n",
       "      <td>0.245308</td>\n",
       "      <td>0.575045</td>\n",
       "      <td>0.000000</td>\n",
       "      <td>0</td>\n",
       "    </tr>\n",
       "    <tr>\n",
       "      <th>3</th>\n",
       "      <td>0.447811</td>\n",
       "      <td>0.756228</td>\n",
       "      <td>0.339262</td>\n",
       "      <td>0.487378</td>\n",
       "      <td>0.366535</td>\n",
       "      <td>0.464781</td>\n",
       "      <td>0.000000</td>\n",
       "      <td>0</td>\n",
       "    </tr>\n",
       "    <tr>\n",
       "      <th>4</th>\n",
       "      <td>0.495921</td>\n",
       "      <td>0.795712</td>\n",
       "      <td>0.388742</td>\n",
       "      <td>0.466733</td>\n",
       "      <td>0.146174</td>\n",
       "      <td>0.431454</td>\n",
       "      <td>0.025452</td>\n",
       "      <td>1</td>\n",
       "    </tr>\n",
       "  </tbody>\n",
       "</table>\n",
       "</div>"
      ],
      "text/plain": [
       "       C3.1      C5.1      C7.1        T4      S1.1      S2.1  C6_Prime  \\\n",
       "0  0.510248  0.867762  0.302904  0.382762  0.100460  0.517723  0.042462   \n",
       "1  0.462852  0.675813  0.315389  0.593209  0.165311  0.333895  0.000000   \n",
       "2  0.448700  0.865527  0.319897  0.389220  0.245308  0.575045  0.000000   \n",
       "3  0.447811  0.756228  0.339262  0.487378  0.366535  0.464781  0.000000   \n",
       "4  0.495921  0.795712  0.388742  0.466733  0.146174  0.431454  0.025452   \n",
       "\n",
       "   industry_3  \n",
       "0           0  \n",
       "1           0  \n",
       "2           0  \n",
       "3           0  \n",
       "4           1  "
      ]
     },
     "execution_count": 8,
     "metadata": {},
     "output_type": "execute_result"
    }
   ],
   "source": [
    "predictors_y2 = data[cols[8:-2]]\n",
    "predictors_y2.head()"
   ]
  },
  {
   "cell_type": "markdown",
   "metadata": {},
   "source": [
    "Below is the key part of this notebook - which generates a `logistic regression` model to predict `Y1`/`Y2`.\n",
    "\n",
    "The code works this way:\n",
    "\n",
    "1. We generate two lists `f1_score_lst` and `auc_lst` to store f1_score and AUC from each of the `10` runs of the model;\n",
    "2. Define model:\n",
    "    1. We define a `LogisticRegression()` model;\n",
    "    \n",
    "    2. We split predictors (`predictors_y1`) and target `y1` to training (80%) and testing (20%);\n",
    "    \n",
    "    3. We fit the model `clf` to the training data, then use it to predict on the testing data;\n",
    "    \n",
    "    4. We also defined a `10-fold cross validation` to make sure our model do not overfit - see [here](https://scikit-learn.org/stable/modules/cross_validation.html) for more info;\n",
    "    \n",
    "    5. We append the f1_score and AUC of current model to the lists (`f1_score_lst` and `auc_lst`) we defined earlier.\n",
    "  \n",
    "3. Print out average f1_score and AUC for all 10 runs;\n",
    "4. Print out average average accuracy from cross validation\n",
    "5. Print out confusion matrix and classification report for the __last__ model.\n",
    "\n",
    "__NOTE__: Step 3 provides the evaluation results we need; step 4 - 5 can be used to verify the results from step 3."
   ]
  },
  {
   "cell_type": "code",
   "execution_count": 9,
   "metadata": {
    "collapsed": false
   },
   "outputs": [
    {
     "name": "stdout",
     "output_type": "stream",
     "text": [
      "F1 0.6093; AUC 0.6068 \n",
      "Accuracy of classifier on test set: 0.61\n",
      "10-fold cross validation average accuracy of classifier: 0.608\n",
      "Confusion Matrix for Logistic Regression Classfier:\n",
      "[[47 31]\n",
      " [21 33]]\n",
      "Classification Report for Logistic Regression Classfier:\n",
      "             precision    recall  f1-score   support\n",
      "\n",
      "          0       0.69      0.60      0.64        78\n",
      "          1       0.52      0.61      0.56        54\n",
      "\n",
      "avg / total       0.62      0.61      0.61       132\n",
      "\n"
     ]
    }
   ],
   "source": [
    "# lists for f1-score and AUC\n",
    "f1_score_lst = []\n",
    "auc_lst = []\n",
    "\n",
    "\n",
    "#loop to calculate f1 and auc scores and present averages after 10 runs\n",
    "for count in range (1,1000):\n",
    "    #Model building\n",
    "    clf = LogisticRegression()\n",
    "    X1_train, X1_test, y1_train, y1_test = train_test_split(predictors_y1, y1, test_size=0.2, random_state=123)\n",
    "    clf.fit(X1_train, y1_train)\n",
    "\n",
    "    y1_pred = clf.predict(X1_test)\n",
    "\n",
    "    \n",
    "    #10-fold cross validation\n",
    "    kfold = model_selection.KFold(n_splits=10, random_state=7)\n",
    "    scoring = 'accuracy'\n",
    "    results = model_selection.cross_val_score(clf, X1_train, y1_train, cv=kfold, scoring=scoring)\n",
    "\n",
    "    \n",
    "\n",
    "    \n",
    "    #calculate f1-score and AUC\n",
    "    \n",
    "    clf_roc_auc = roc_auc_score(y1_test, y1_pred)\n",
    "    f1_score_lst.append(precision_recall_fscore_support(y1_test, y1_pred, average='weighted')[2])\n",
    "    auc_lst.append(clf_roc_auc)\n",
    "\n",
    "\n",
    "print('F1 {:.4f}; AUC {:.4f} '.format(np.mean(f1_score_lst),np.mean(auc_lst)))\n",
    "\n",
    "#result=logit_model.fit()\n",
    "confusion_matrix_y1 = confusion_matrix(y1_test, y1_pred)\n",
    "\n",
    "\n",
    "#print(result.summary())\n",
    "print('Accuracy of classifier on test set: {:.2f}'.format(clf.score(X1_test, y1_test)))\n",
    "\n",
    "print(\"10-fold cross validation average accuracy of classifier: %.3f\" % (results.mean()))\n",
    "\n",
    "print('Confusion Matrix for Logistic Regression Classfier:')\n",
    "print(confusion_matrix_y1)\n",
    "\n",
    "print('Classification Report for Logistic Regression Classfier:')\n",
    "print(classification_report(y1_test, y1_pred))\n"
   ]
  },
  {
   "cell_type": "markdown",
   "metadata": {},
   "source": [
    "Below code are used to evaluate model toward `Y2`. It is very similar to the code above - key difference is that `Y2` is imbalanced - so I wrote some code (under `# Begin oversampling`) to deal with that."
   ]
  },
  {
   "cell_type": "code",
   "execution_count": 10,
   "metadata": {
    "collapsed": false
   },
   "outputs": [
    {
     "name": "stdout",
     "output_type": "stream",
     "text": [
      "F1 0.7179; AUC 0.6758 \n",
      "Accuracy of classifier on test set: 0.705\n",
      "10-fold cross validation average accuracy of clf1: 0.519\n",
      "Confusion Matrix for Classfier:\n",
      "[[23 13]\n",
      " [26 70]]\n",
      "Classification Report for Classfier:\n",
      "             precision    recall  f1-score   support\n",
      "\n",
      "          0       0.47      0.64      0.54        36\n",
      "          1       0.84      0.73      0.78        96\n",
      "\n",
      "avg / total       0.74      0.70      0.72       132\n",
      "\n"
     ]
    }
   ],
   "source": [
    "# lists for f1-score and AUC\n",
    "f1_score_lst = []\n",
    "auc_lst = []\n",
    "\n",
    "\n",
    "#loop to calculate f1 and auc scores and present averages after 10 runs\n",
    "for count in range (1,1000):\n",
    "    #Model building\n",
    "    clf1 = LogisticRegression()\n",
    "\n",
    "    \n",
    "    # Splitting data into testing and training\n",
    "    X2_train, X2_test, y2_train, y2_test = train_test_split(predictors_y2, y2, test_size=0.2, random_state=123)\n",
    "    \n",
    "    # Begin oversampling\n",
    "    oversample = pd.concat([X2_train,y2_train],axis=1)\n",
    "    max_size = oversample['Y2'].value_counts().max()\n",
    "    lst = [oversample]\n",
    "    for class_index, group in oversample.groupby('Y2'):\n",
    "        lst.append(group.sample(max_size-len(group), replace=True))\n",
    "    X2_train = pd.concat(lst)\n",
    "    y2_train=pd.DataFrame.copy(X2_train['Y2'])\n",
    "    del X2_train['Y2']\n",
    "    \n",
    "    # fitting model on oversampled data\n",
    "    clf1.fit(X2_train, y2_train)\n",
    "    \n",
    "    y2_pred = clf1.predict(X2_test)\n",
    "    \n",
    "    \n",
    "    #10-fold cross validation\n",
    "    kfold = model_selection.KFold(n_splits=10, random_state=123)\n",
    "    scoring = 'accuracy'\n",
    "    results = model_selection.cross_val_score(clf1, X2_train, y2_train, cv=kfold, scoring=scoring)\n",
    "    \n",
    "    #calculate f1-score and AUC\n",
    "    \n",
    "    clf1_roc_auc = roc_auc_score(y2_test, y2_pred)\n",
    "    \n",
    "    \n",
    "    #calculate average f1-score and AUC\n",
    "    f1_score_lst.append(precision_recall_fscore_support(y2_test, y2_pred, average='weighted')[2])\n",
    "    auc_lst.append(clf1_roc_auc)\n",
    "    \n",
    "    \n",
    "print('F1 {:.4f}; AUC {:.4f} '.format(np.mean(f1_score_lst),np.mean(auc_lst)))\n",
    "\n",
    "confusion_matrix_y2 = confusion_matrix(y2_test, y2_pred)\n",
    "\n",
    "\n",
    "print('Accuracy of classifier on test set: {:.3f}'.format(clf1.score(X2_test, y2_test)))\n",
    "\n",
    "print(\"10-fold cross validation average accuracy of clf1: %.3f\" % (results.mean()))\n",
    "\n",
    "print('Confusion Matrix for Classfier:')\n",
    "print(confusion_matrix_y2)\n",
    "\n",
    "print('Classification Report for Classfier:')\n",
    "print(classification_report(y2_test, y2_pred))\n"
   ]
  },
  {
   "cell_type": "code",
   "execution_count": null,
   "metadata": {},
   "outputs": [],
   "source": []
  }
 ],
 "metadata": {
  "kernelspec": {
   "display_name": "Python 3",
   "language": "python",
   "name": "python3"
  },
  "language_info": {
   "codemirror_mode": {
    "name": "ipython",
    "version": 3
   },
   "file_extension": ".py",
   "mimetype": "text/x-python",
   "name": "python",
   "nbconvert_exporter": "python",
   "pygments_lexer": "ipython3",
   "version": "3.6.5"
  }
 },
 "nbformat": 4,
 "nbformat_minor": 2
}
