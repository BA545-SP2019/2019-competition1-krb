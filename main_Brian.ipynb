{
 "cells": [
  {
   "cell_type": "markdown",
   "metadata": {},
   "source": [
    "## This will be the Main File for our testing adn things. We can read/write etc in this file"
   ]
  },
  {
   "cell_type": "markdown",
   "metadata": {},
   "source": [
    "## Step 1: Import the Appropriate Libaries and read in the data file\n",
    "\n"
   ]
  },
  {
   "cell_type": "code",
   "execution_count": 12,
   "metadata": {},
   "outputs": [],
   "source": [
    "import pandas as pd\n",
    "import numpy as np\n",
    "import matplotlib.pyplot as plt\n",
    "plt.style.use('ggplot')"
   ]
  },
  {
   "cell_type": "code",
   "execution_count": 13,
   "metadata": {},
   "outputs": [
    {
     "name": "stdout",
     "output_type": "stream",
     "text": [
      "     I1                                  I2    I3  P(IPO)  P(H)  P(L)  \\\n",
      "0  AATI  ADVANCED ANALOGIC TECHNOLOGIES INC  3674    10.0   9.5   8.5   \n",
      "1  ABPI     ACCENTIA BIOPHARMACEUTICALS INC  2834     8.0  10.0   8.0   \n",
      "2  ACAD          ACADIA PHARMACEUTICALS INC  2834     7.0  14.0  12.0   \n",
      "3  ACHN       ACHILLION PHARMACEUTICALS INC  2834    11.5  16.0  14.0   \n",
      "4  ACLI     AMERICAN COMMERCIAL LINES INC.   4492    21.0  21.0  19.0   \n",
      "\n",
      "     P(1Day)     C1   C2    C3  ...            C6       C7     T1       T2  \\\n",
      "0  11.870000  122.0  1.0  3.43  ...    10600000.0   51.345  470.0  12719.0   \n",
      "1   7.250000  259.0  0.0 -1.62  ...     2400000.0   25.936  791.0  21792.0   \n",
      "2   6.700000   90.0  1.0 -1.24  ...     5000000.0    7.378  201.0   5262.0   \n",
      "3  12.390000  209.0  1.0 -0.91  ...     4500000.0    8.526  328.0   8259.0   \n",
      "4  56.599998   80.0  1.0  0.07  ...     8250000.0  632.298  572.0  14830.0   \n",
      "\n",
      "        T3     T4      T5    S1     S2     S3  \n",
      "0  11560.0  301.0   690.0  62.0  117.0  139.0  \n",
      "1  19585.0  510.0  1120.0  71.0  242.0  237.0  \n",
      "2   4785.0  128.0   325.0  61.0   33.0   60.0  \n",
      "3   7574.0  177.0   509.0  80.0   59.0  110.0  \n",
      "4  13176.0  336.0   720.0  67.0  149.0  167.0  \n",
      "\n",
      "[5 rows x 22 columns]\n"
     ]
    }
   ],
   "source": [
    "df = pd.read_excel('Competition1_raw_data.xlsx', na_values='-')\n",
    "print (df.head())"
   ]
  },
  {
   "cell_type": "markdown",
   "metadata": {},
   "source": [
    "## Step 2: Now Lets analyze the data that we have to work with"
   ]
  },
  {
   "cell_type": "code",
   "execution_count": 14,
   "metadata": {},
   "outputs": [
    {
     "name": "stdout",
     "output_type": "stream",
     "text": [
      "Checking the shape of our data \n",
      "\n",
      "(682, 22)\n",
      "Checking the data types we have \n",
      "\n",
      "I1          object\n",
      "I2          object\n",
      "I3          object\n",
      "P(IPO)     float64\n",
      "P(H)       float64\n",
      "P(L)       float64\n",
      "P(1Day)    float64\n",
      "C1         float64\n",
      "C2         float64\n",
      "C3         float64\n",
      "C4         float64\n",
      "C5         float64\n",
      "C6         float64\n",
      "C7         float64\n",
      "T1         float64\n",
      "T2         float64\n",
      "T3         float64\n",
      "T4         float64\n",
      "T5         float64\n",
      "S1         float64\n",
      "S2         float64\n",
      "S3         float64\n",
      "dtype: object\n",
      "Checking for missing values \n",
      "\n",
      "I1          0\n",
      "I2          0\n",
      "I3          8\n",
      "P(IPO)      5\n",
      "P(H)       10\n",
      "P(L)       10\n",
      "P(1Day)    22\n",
      "C1         22\n",
      "C2         22\n",
      "C3         36\n",
      "C4         22\n",
      "C5          6\n",
      "C6          6\n",
      "C7         72\n",
      "T1          1\n",
      "T2          1\n",
      "T3          1\n",
      "T4          1\n",
      "T5          1\n",
      "S1          1\n",
      "S2          1\n",
      "S3          1\n",
      "dtype: int64\n"
     ]
    }
   ],
   "source": [
    "print('Checking the shape of our data \\n')\n",
    "print(df.shape)\n",
    "\n",
    "print('Checking the data types we have \\n')\n",
    "print(df.dtypes)\n",
    "\n",
    "print('Checking for missing values \\n')\n",
    "print(df.isna().sum())"
   ]
  },
  {
   "cell_type": "markdown",
   "metadata": {},
   "source": [
    "## Step 3: Formatting our data \n",
    "\n",
    "In order to make sure our data matches with our data dictionary, we need to convert certain columns to certain values. "
   ]
  },
  {
   "cell_type": "code",
   "execution_count": 15,
   "metadata": {},
   "outputs": [
    {
     "name": "stdout",
     "output_type": "stream",
     "text": [
      "I1          object\n",
      "I2          object\n",
      "I3          object\n",
      "P(IPO)     float64\n",
      "P(H)       float64\n",
      "P(L)       float64\n",
      "P(1Day)    float64\n",
      "C1         float64\n",
      "C2            bool\n",
      "C3         float64\n",
      "C4         float64\n",
      "C5         float64\n",
      "C6         float64\n",
      "C7         float64\n",
      "T1         float64\n",
      "T2         float64\n",
      "T3         float64\n",
      "T4         float64\n",
      "T5         float64\n",
      "S1         float64\n",
      "S2         float64\n",
      "S3         float64\n",
      "dtype: object\n"
     ]
    }
   ],
   "source": [
    "#need to convert these rows to the values as indicated by the Data Dictionary \n",
    "\n",
    "to_float = ['P(IPO)','P(H)', 'P(L)', 'P(1Day)', 'C1', 'C3', 'C4', 'C5', 'C6', 'C7', 'T1', 'T2', 'T3', 'T4', 'T5', 'S1', 'S2', 'S3']\n",
    "\n",
    "for col in to_float:\n",
    "    df[col]=pd.to_numeric(df[col], errors='coerce')\n",
    "df['C2'] = df['C2'].astype('bool') \n",
    "print(df.dtypes)"
   ]
  },
  {
   "cell_type": "code",
   "execution_count": 18,
   "metadata": {},
   "outputs": [
    {
     "name": "stdout",
     "output_type": "stream",
     "text": [
      "I1          0\n",
      "I2          0\n",
      "I3          0\n",
      "P(IPO)      0\n",
      "P(H)        0\n",
      "P(L)        0\n",
      "P(1Day)     0\n",
      "C1          0\n",
      "C2          0\n",
      "C3         24\n",
      "C4          0\n",
      "C5          0\n",
      "C6          0\n",
      "C7         60\n",
      "T1          0\n",
      "T2          0\n",
      "T3          0\n",
      "T4          0\n",
      "T5          0\n",
      "S1          0\n",
      "S2          0\n",
      "S3          0\n",
      "dtype: int64\n"
     ]
    }
   ],
   "source": [
    "df = df.dropna(subset=['P(1Day)'])\n",
    "print(df.isna().sum())"
   ]
  },
  {
   "cell_type": "code",
   "execution_count": 19,
   "metadata": {},
   "outputs": [
    {
     "name": "stderr",
     "output_type": "stream",
     "text": [
      "/opt/tljh/user/lib/python3.6/site-packages/numpy/lib/function_base.py:780: RuntimeWarning: invalid value encountered in greater_equal\n",
      "  keep = (tmp_a >= first_edge)\n",
      "/opt/tljh/user/lib/python3.6/site-packages/numpy/lib/function_base.py:781: RuntimeWarning: invalid value encountered in less_equal\n",
      "  keep &= (tmp_a <= last_edge)\n"
     ]
    },
    {
     "data": {
      "text/plain": [
       "Text(0.5, 1.0, 'Histogram of EPS ')"
      ]
     },
     "execution_count": 19,
     "metadata": {},
     "output_type": "execute_result"
    },
    {
     "data": {
      "image/png": "[encoded data removed]",
      "text/plain": [
       "<Figure size 432x288 with 1 Axes>"
      ]
     },
     "metadata": {},
     "output_type": "display_data"
    }
   ],
   "source": [
    "plt.hist(df[\"C3\"], bins=8, alpha=0.5)\n",
    "plt.xlabel('EPS')\n",
    "plt.ylabel('Count')\n",
    "plt.title('Histogram of EPS ')"
   ]
  },
  {
   "cell_type": "markdown",
   "metadata": {},
   "source": [
    "We have massive outliers so we can't use the mean for our imputation so we went with median instead. "
   ]
  },
  {
   "cell_type": "code",
   "execution_count": 33,
   "metadata": {},
   "outputs": [
    {
     "data": {
      "text/plain": [
       "Text(0.5, 1.0, 'Histogram of Sales ')"
      ]
     },
     "execution_count": 33,
     "metadata": {},
     "output_type": "execute_result"
    },
    {
     "data": {
      "image/png": "[encoded data removed]",
      "text/plain": [
       "<Figure size 432x288 with 1 Axes>"
      ]
     },
     "metadata": {},
     "output_type": "display_data"
    }
   ],
   "source": [
    "plt.hist(df[\"C7\"], bins=8, alpha=0.5)\n",
    "plt.xlabel('Sales')\n",
    "plt.ylabel('Count')\n",
    "plt.title('Histogram of Sales ')"
   ]
  },
  {
   "cell_type": "code",
   "execution_count": 22,
   "metadata": {},
   "outputs": [],
   "source": [
    "df['C7_Impute'] = np.where(df['C7'].isna(),1,0)\n",
    "df['C3_Impute'] = np.where(df['C3'].isna(),1,0)"
   ]
  },
  {
   "cell_type": "code",
   "execution_count": 25,
   "metadata": {},
   "outputs": [
    {
     "name": "stdout",
     "output_type": "stream",
     "text": [
      "107.462\n",
      "0.0\n"
     ]
    }
   ],
   "source": [
    "c7_median = df['C7'].median()\n",
    "print(c7_median)\n",
    "df['C7'] = df['C7'].fillna(c7_median)\n",
    "\n",
    "c3_median = df['C3'].median()\n",
    "print(c3_median)\n",
    "df['C3'] = df['C3'].fillna(c3_median)"
   ]
  },
  {
   "cell_type": "code",
   "execution_count": 26,
   "metadata": {},
   "outputs": [
    {
     "data": {
      "text/html": [
       "<div>\n",
       "<style scoped>\n",
       "    .dataframe tbody tr th:only-of-type {\n",
       "        vertical-align: middle;\n",
       "    }\n",
       "\n",
       "    .dataframe tbody tr th {\n",
       "        vertical-align: top;\n",
       "    }\n",
       "\n",
       "    .dataframe thead th {\n",
       "        text-align: right;\n",
       "    }\n",
       "</style>\n",
       "<table border=\"1\" class=\"dataframe\">\n",
       "  <thead>\n",
       "    <tr style=\"text-align: right;\">\n",
       "      <th></th>\n",
       "      <th>P(IPO)</th>\n",
       "      <th>P(H)</th>\n",
       "      <th>P(L)</th>\n",
       "      <th>P(1Day)</th>\n",
       "      <th>C1</th>\n",
       "      <th>C3</th>\n",
       "      <th>C4</th>\n",
       "      <th>C5</th>\n",
       "      <th>C6</th>\n",
       "      <th>C7</th>\n",
       "      <th>T1</th>\n",
       "      <th>T2</th>\n",
       "      <th>T3</th>\n",
       "      <th>T4</th>\n",
       "      <th>T5</th>\n",
       "      <th>S1</th>\n",
       "      <th>S2</th>\n",
       "      <th>S3</th>\n",
       "      <th>C7_Impute</th>\n",
       "      <th>C3_Impute</th>\n",
       "    </tr>\n",
       "  </thead>\n",
       "  <tbody>\n",
       "    <tr>\n",
       "      <th>count</th>\n",
       "      <td>660.000000</td>\n",
       "      <td>660.000000</td>\n",
       "      <td>660.000000</td>\n",
       "      <td>660.000000</td>\n",
       "      <td>660.000000</td>\n",
       "      <td>660.000000</td>\n",
       "      <td>660.000000</td>\n",
       "      <td>6.600000e+02</td>\n",
       "      <td>6.600000e+02</td>\n",
       "      <td>660.000000</td>\n",
       "      <td>660.000000</td>\n",
       "      <td>660.000000</td>\n",
       "      <td>660.000000</td>\n",
       "      <td>660.000000</td>\n",
       "      <td>660.000000</td>\n",
       "      <td>660.000000</td>\n",
       "      <td>660.000000</td>\n",
       "      <td>660.000000</td>\n",
       "      <td>660.000000</td>\n",
       "      <td>660.000000</td>\n",
       "    </tr>\n",
       "    <tr>\n",
       "      <th>mean</th>\n",
       "      <td>14.034621</td>\n",
       "      <td>15.610394</td>\n",
       "      <td>13.635394</td>\n",
       "      <td>25.934766</td>\n",
       "      <td>149.728788</td>\n",
       "      <td>0.066724</td>\n",
       "      <td>0.007282</td>\n",
       "      <td>4.996285e+07</td>\n",
       "      <td>1.258248e+07</td>\n",
       "      <td>470.631368</td>\n",
       "      <td>468.701515</td>\n",
       "      <td>12849.703030</td>\n",
       "      <td>11463.393939</td>\n",
       "      <td>295.957576</td>\n",
       "      <td>669.890909</td>\n",
       "      <td>68.675758</td>\n",
       "      <td>120.896970</td>\n",
       "      <td>145.516667</td>\n",
       "      <td>0.090909</td>\n",
       "      <td>0.036364</td>\n",
       "    </tr>\n",
       "    <tr>\n",
       "      <th>std</th>\n",
       "      <td>5.954214</td>\n",
       "      <td>6.613816</td>\n",
       "      <td>5.790112</td>\n",
       "      <td>73.234948</td>\n",
       "      <td>152.817467</td>\n",
       "      <td>158.390378</td>\n",
       "      <td>0.033318</td>\n",
       "      <td>1.055377e+08</td>\n",
       "      <td>2.539940e+07</td>\n",
       "      <td>1587.801852</td>\n",
       "      <td>176.374430</td>\n",
       "      <td>5461.888999</td>\n",
       "      <td>4867.297323</td>\n",
       "      <td>122.172959</td>\n",
       "      <td>298.268982</td>\n",
       "      <td>39.410385</td>\n",
       "      <td>85.542267</td>\n",
       "      <td>69.824545</td>\n",
       "      <td>0.287698</td>\n",
       "      <td>0.187335</td>\n",
       "    </tr>\n",
       "    <tr>\n",
       "      <th>min</th>\n",
       "      <td>5.000000</td>\n",
       "      <td>0.000000</td>\n",
       "      <td>5.000000</td>\n",
       "      <td>0.000000</td>\n",
       "      <td>10.000000</td>\n",
       "      <td>-786.239000</td>\n",
       "      <td>-0.162352</td>\n",
       "      <td>3.693227e+06</td>\n",
       "      <td>8.000000e+05</td>\n",
       "      <td>0.074000</td>\n",
       "      <td>132.000000</td>\n",
       "      <td>0.000000</td>\n",
       "      <td>0.000000</td>\n",
       "      <td>0.000000</td>\n",
       "      <td>-1.000000</td>\n",
       "      <td>-1.000000</td>\n",
       "      <td>20.000000</td>\n",
       "      <td>40.000000</td>\n",
       "      <td>0.000000</td>\n",
       "      <td>0.000000</td>\n",
       "    </tr>\n",
       "    <tr>\n",
       "      <th>25%</th>\n",
       "      <td>10.000000</td>\n",
       "      <td>13.000000</td>\n",
       "      <td>11.000000</td>\n",
       "      <td>11.000000</td>\n",
       "      <td>85.000000</td>\n",
       "      <td>-0.795000</td>\n",
       "      <td>-0.013927</td>\n",
       "      <td>1.877568e+07</td>\n",
       "      <td>5.124546e+06</td>\n",
       "      <td>41.458000</td>\n",
       "      <td>356.000000</td>\n",
       "      <td>9213.750000</td>\n",
       "      <td>8200.250000</td>\n",
       "      <td>214.000000</td>\n",
       "      <td>463.750000</td>\n",
       "      <td>45.000000</td>\n",
       "      <td>74.000000</td>\n",
       "      <td>100.000000</td>\n",
       "      <td>0.000000</td>\n",
       "      <td>0.000000</td>\n",
       "    </tr>\n",
       "    <tr>\n",
       "      <th>50%</th>\n",
       "      <td>13.750000</td>\n",
       "      <td>15.500000</td>\n",
       "      <td>13.000000</td>\n",
       "      <td>14.845000</td>\n",
       "      <td>107.000000</td>\n",
       "      <td>0.000000</td>\n",
       "      <td>0.009125</td>\n",
       "      <td>2.745438e+07</td>\n",
       "      <td>7.500000e+06</td>\n",
       "      <td>107.462000</td>\n",
       "      <td>446.000000</td>\n",
       "      <td>12112.500000</td>\n",
       "      <td>10829.500000</td>\n",
       "      <td>280.000000</td>\n",
       "      <td>627.000000</td>\n",
       "      <td>60.000000</td>\n",
       "      <td>101.500000</td>\n",
       "      <td>135.000000</td>\n",
       "      <td>0.000000</td>\n",
       "      <td>0.000000</td>\n",
       "    </tr>\n",
       "    <tr>\n",
       "      <th>75%</th>\n",
       "      <td>17.000000</td>\n",
       "      <td>17.000000</td>\n",
       "      <td>15.000000</td>\n",
       "      <td>20.485000</td>\n",
       "      <td>155.250000</td>\n",
       "      <td>0.402500</td>\n",
       "      <td>0.031571</td>\n",
       "      <td>5.003986e+07</td>\n",
       "      <td>1.200000e+07</td>\n",
       "      <td>300.764000</td>\n",
       "      <td>553.250000</td>\n",
       "      <td>15275.000000</td>\n",
       "      <td>13793.500000</td>\n",
       "      <td>355.250000</td>\n",
       "      <td>801.250000</td>\n",
       "      <td>85.000000</td>\n",
       "      <td>144.000000</td>\n",
       "      <td>174.000000</td>\n",
       "      <td>0.000000</td>\n",
       "      <td>0.000000</td>\n",
       "    </tr>\n",
       "    <tr>\n",
       "      <th>max</th>\n",
       "      <td>85.000000</td>\n",
       "      <td>135.000000</td>\n",
       "      <td>108.000000</td>\n",
       "      <td>1159.200562</td>\n",
       "      <td>2087.000000</td>\n",
       "      <td>3864.500000</td>\n",
       "      <td>0.092896</td>\n",
       "      <td>2.138085e+09</td>\n",
       "      <td>4.212336e+08</td>\n",
       "      <td>30683.000000</td>\n",
       "      <td>1750.000000</td>\n",
       "      <td>49056.000000</td>\n",
       "      <td>43952.000000</td>\n",
       "      <td>1058.000000</td>\n",
       "      <td>2729.000000</td>\n",
       "      <td>309.000000</td>\n",
       "      <td>944.000000</td>\n",
       "      <td>883.000000</td>\n",
       "      <td>1.000000</td>\n",
       "      <td>1.000000</td>\n",
       "    </tr>\n",
       "  </tbody>\n",
       "</table>\n",
       "</div>"
      ],
      "text/plain": [
       "           P(IPO)        P(H)        P(L)      P(1Day)           C1  \\\n",
       "count  660.000000  660.000000  660.000000   660.000000   660.000000   \n",
       "mean    14.034621   15.610394   13.635394    25.934766   149.728788   \n",
       "std      5.954214    6.613816    5.790112    73.234948   152.817467   \n",
       "min      5.000000    0.000000    5.000000     0.000000    10.000000   \n",
       "25%     10.000000   13.000000   11.000000    11.000000    85.000000   \n",
       "50%     13.750000   15.500000   13.000000    14.845000   107.000000   \n",
       "75%     17.000000   17.000000   15.000000    20.485000   155.250000   \n",
       "max     85.000000  135.000000  108.000000  1159.200562  2087.000000   \n",
       "\n",
       "                C3          C4            C5            C6            C7  \\\n",
       "count   660.000000  660.000000  6.600000e+02  6.600000e+02    660.000000   \n",
       "mean      0.066724    0.007282  4.996285e+07  1.258248e+07    470.631368   \n",
       "std     158.390378    0.033318  1.055377e+08  2.539940e+07   1587.801852   \n",
       "min    -786.239000   -0.162352  3.693227e+06  8.000000e+05      0.074000   \n",
       "25%      -0.795000   -0.013927  1.877568e+07  5.124546e+06     41.458000   \n",
       "50%       0.000000    0.009125  2.745438e+07  7.500000e+06    107.462000   \n",
       "75%       0.402500    0.031571  5.003986e+07  1.200000e+07    300.764000   \n",
       "max    3864.500000    0.092896  2.138085e+09  4.212336e+08  30683.000000   \n",
       "\n",
       "                T1            T2            T3           T4           T5  \\\n",
       "count   660.000000    660.000000    660.000000   660.000000   660.000000   \n",
       "mean    468.701515  12849.703030  11463.393939   295.957576   669.890909   \n",
       "std     176.374430   5461.888999   4867.297323   122.172959   298.268982   \n",
       "min     132.000000      0.000000      0.000000     0.000000    -1.000000   \n",
       "25%     356.000000   9213.750000   8200.250000   214.000000   463.750000   \n",
       "50%     446.000000  12112.500000  10829.500000   280.000000   627.000000   \n",
       "75%     553.250000  15275.000000  13793.500000   355.250000   801.250000   \n",
       "max    1750.000000  49056.000000  43952.000000  1058.000000  2729.000000   \n",
       "\n",
       "               S1          S2          S3   C7_Impute   C3_Impute  \n",
       "count  660.000000  660.000000  660.000000  660.000000  660.000000  \n",
       "mean    68.675758  120.896970  145.516667    0.090909    0.036364  \n",
       "std     39.410385   85.542267   69.824545    0.287698    0.187335  \n",
       "min     -1.000000   20.000000   40.000000    0.000000    0.000000  \n",
       "25%     45.000000   74.000000  100.000000    0.000000    0.000000  \n",
       "50%     60.000000  101.500000  135.000000    0.000000    0.000000  \n",
       "75%     85.000000  144.000000  174.000000    0.000000    0.000000  \n",
       "max    309.000000  944.000000  883.000000    1.000000    1.000000  "
      ]
     },
     "execution_count": 26,
     "metadata": {},
     "output_type": "execute_result"
    }
   ],
   "source": [
    "df.describe()"
   ]
  },
  {
   "cell_type": "code",
   "execution_count": 34,
   "metadata": {},
   "outputs": [],
   "source": [
    "## Creating Necessary Variables Y1, Y2, C3', C5', and C6'\n",
    "## Code found on https://stackoverflow.com/questions/19913659/pandas-conditional-creation-of-a-series-dataframe-column\n",
    "df['P(Mid)'] = (df['P(H)'] + df['P(L)']) / 2\n",
    "df['Y1'] = np.where(df['P(IPO)'] < df['P(Mid)'], 1,0)\n",
    "df['Y2'] = np.where(df['P(IPO)'] < df['P(1Day)'], 1,0)\n",
    "df[\"C3'\"] = np.where(df['C3'] > 0, 1, 0)\n",
    "df[\"C5'\"] = df['C5'] / df['C6']\n",
    "df[\"C6'\"] = np.where(df['P(IPO)'] > df['P(Mid)'], ((df['P(IPO)'] - df['P(Mid)']) / df['P(Mid)']) * 100,0)"
   ]
  },
  {
   "cell_type": "code",
   "execution_count": 35,
   "metadata": {},
   "outputs": [],
   "source": [
    "df.to_csv('outtest.csv')"
   ]
  },
  {
   "cell_type": "code",
   "execution_count": null,
   "metadata": {},
   "outputs": [],
   "source": []
  }
 ],
 "metadata": {
  "kernelspec": {
   "display_name": "Python 3",
   "language": "python",
   "name": "python3"
  },
  "language_info": {
   "codemirror_mode": {
    "name": "ipython",
    "version": 3
   },
   "file_extension": ".py",
   "mimetype": "text/x-python",
   "name": "python",
   "nbconvert_exporter": "python",
   "pygments_lexer": "ipython3",
   "version": "3.6.5"
  }
 },
 "nbformat": 4,
 "nbformat_minor": 2
}
