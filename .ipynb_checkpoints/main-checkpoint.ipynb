{
 "cells": [
  {
   "cell_type": "markdown",
   "metadata": {},
   "source": [
    "## This will be the Main File for our testing adn things. We can read/write etc in this file"
   ]
  },
  {
   "cell_type": "markdown",
   "metadata": {},
   "source": [
    "## Step 1: Import the Appropriate Libaries and read in the data file\n",
    "\n"
   ]
  },
  {
   "cell_type": "code",
   "execution_count": 1,
   "metadata": {},
   "outputs": [],
   "source": [
    "import pandas as pd\n",
    "import numpy as np"
   ]
  },
  {
   "cell_type": "code",
   "execution_count": 4,
   "metadata": {},
   "outputs": [
    {
     "name": "stdout",
     "output_type": "stream",
     "text": [
      "     I1                                  I2    I3 P(IPO) P(H) P(L) P(1Day)  \\\n",
      "0  AATI  ADVANCED ANALOGIC TECHNOLOGIES INC  3674     10  9.5  8.5   11.87   \n",
      "1  ABPI     ACCENTIA BIOPHARMACEUTICALS INC  2834      8   10    8    7.25   \n",
      "2  ACAD          ACADIA PHARMACEUTICALS INC  2834      7   14   12     6.7   \n",
      "3  ACHN       ACHILLION PHARMACEUTICALS INC  2834   11.5   16   14   12.39   \n",
      "4  ACLI     AMERICAN COMMERCIAL LINES INC.   4492     21   21   19    56.6   \n",
      "\n",
      "    C1 C2    C3 ...         C6       C7   T1     T2     T3   T4    T5  S1  \\\n",
      "0  122  1  3.43 ...   10600000   51.345  470  12719  11560  301   690  62   \n",
      "1  259  0 -1.62 ...    2400000   25.936  791  21792  19585  510  1120  71   \n",
      "2   90  1 -1.24 ...    5000000    7.378  201   5262   4785  128   325  61   \n",
      "3  209  1 -0.91 ...    4500000    8.526  328   8259   7574  177   509  80   \n",
      "4   80  1  0.07 ...    8250000  632.298  572  14830  13176  336   720  67   \n",
      "\n",
      "    S2   S3  \n",
      "0  117  139  \n",
      "1  242  237  \n",
      "2   33   60  \n",
      "3   59  110  \n",
      "4  149  167  \n",
      "\n",
      "[5 rows x 22 columns]\n"
     ]
    }
   ],
   "source": [
    "df = pd.read_excel('Competition1_raw_data.xlsx')\n",
    "print (df.head())"
   ]
  },
  {
   "cell_type": "markdown",
   "metadata": {},
   "source": [
    "## Step 2: Now Lets analyze the data that we have to work with"
   ]
  },
  {
   "cell_type": "code",
   "execution_count": 8,
   "metadata": {},
   "outputs": [
    {
     "name": "stdout",
     "output_type": "stream",
     "text": [
      "Checking the shape of our data \n",
      "\n",
      "(682, 22)\n",
      "Checking the data types we have \n",
      "\n",
      "I1          object\n",
      "I2          object\n",
      "I3          object\n",
      "P(IPO)     float64\n",
      "P(H)        object\n",
      "P(L)        object\n",
      "P(1Day)     object\n",
      "C1          object\n",
      "C2          object\n",
      "C3          object\n",
      "C4          object\n",
      "C5          object\n",
      "C6          object\n",
      "C7          object\n",
      "T1          object\n",
      "T2          object\n",
      "T3          object\n",
      "T4          object\n",
      "T5          object\n",
      "S1          object\n",
      "S2          object\n",
      "S3          object\n",
      "dtype: object\n",
      "Checking for missing values \n",
      "\n",
      "I1         0\n",
      "I2         0\n",
      "I3         0\n",
      "P(IPO)     5\n",
      "P(H)       0\n",
      "P(L)       0\n",
      "P(1Day)    0\n",
      "C1         0\n",
      "C2         0\n",
      "C3         0\n",
      "C4         0\n",
      "C5         0\n",
      "C6         0\n",
      "C7         0\n",
      "T1         0\n",
      "T2         0\n",
      "T3         0\n",
      "T4         0\n",
      "T5         0\n",
      "S1         0\n",
      "S2         0\n",
      "S3         0\n",
      "dtype: int64\n"
     ]
    }
   ],
   "source": [
    "print('Checking the shape of our data \\n')\n",
    "print(df.shape)\n",
    "\n",
    "print('Checking the data types we have \\n')\n",
    "print(df.dtypes)\n",
    "\n",
    "print('Checking for missing values \\n')\n",
    "print(df.isna().sum())"
   ]
  },
  {
   "cell_type": "markdown",
   "metadata": {},
   "source": [
    "## Step 3: Formatting our data \n",
    "\n",
    "In order to make sure our data matches with our data dictionary, we need to convert certain columns to certain values. "
   ]
  },
  {
   "cell_type": "code",
   "execution_count": 10,
   "metadata": {},
   "outputs": [
    {
     "name": "stdout",
     "output_type": "stream",
     "text": [
      "I1          object\n",
      "I2          object\n",
      "I3          object\n",
      "P(IPO)     float64\n",
      "P(H)       float64\n",
      "P(L)       float64\n",
      "P(1Day)    float64\n",
      "C1          object\n",
      "C2          object\n",
      "C3          object\n",
      "C4          object\n",
      "C5          object\n",
      "C6          object\n",
      "C7          object\n",
      "T1          object\n",
      "T2          object\n",
      "T3          object\n",
      "T4          object\n",
      "T5          object\n",
      "S1          object\n",
      "S2          object\n",
      "S3          object\n",
      "dtype: object\n"
     ]
    }
   ],
   "source": [
    "#this works but clean up the data/format it in a different block\n",
    "\n",
    "to_float = ['P(IPO)','P(H)', 'P(L)', 'P(1Day)']\n",
    "\n",
    "for col in to_float:\n",
    "    df[col]=pd.to_numeric(df[col], errors='coerce')\n",
    "print(df.dtypes)"
   ]
  },
  {
   "cell_type": "code",
   "execution_count": null,
   "metadata": {},
   "outputs": [],
   "source": []
  }
 ],
 "metadata": {
  "kernelspec": {
   "display_name": "Python 3",
   "language": "python",
   "name": "python3"
  },
  "language_info": {
   "codemirror_mode": {
    "name": "ipython",
    "version": 3
   },
   "file_extension": ".py",
   "mimetype": "text/x-python",
   "name": "python",
   "nbconvert_exporter": "python",
   "pygments_lexer": "ipython3",
   "version": "3.6.5"
  }
 },
 "nbformat": 4,
 "nbformat_minor": 2
}
