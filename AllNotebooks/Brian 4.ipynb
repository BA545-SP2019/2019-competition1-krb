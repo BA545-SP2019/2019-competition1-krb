{
 "cells": [
  {
   "cell_type": "code",
   "execution_count": 49,
   "metadata": {},
   "outputs": [],
   "source": [
    "import pandas as pd\n",
    "import numpy as np\n",
    "import matplotlib.pyplot as plt\n",
    "import backend as bk\n",
    "from sklearn.feature_selection import RFE\n",
    "from sklearn.linear_model import LogisticRegression\n",
    "from pandas import ExcelWriter\n",
    "\n",
    "plt.style.use('ggplot')\n",
    "pd.options.display.max_columns = None"
   ]
  },
  {
   "cell_type": "markdown",
   "metadata": {},
   "source": [
    "## Import File and Reset Index"
   ]
  },
  {
   "cell_type": "code",
   "execution_count": 50,
   "metadata": {},
   "outputs": [],
   "source": [
    "df = pd.read_excel('Competition1_raw_data.xlsx', na_values='-')\n",
    "df.set_index('I1', inplace=True)"
   ]
  },
  {
   "cell_type": "markdown",
   "metadata": {},
   "source": [
    "## Changing DataTypes"
   ]
  },
  {
   "cell_type": "code",
   "execution_count": 51,
   "metadata": {},
   "outputs": [],
   "source": [
    "to_float = ['I3','P(IPO)','P(H)', 'P(L)', 'P(1Day)', 'C1', 'C2', 'C3', 'C4', 'C5', 'C6', 'C7', 'T1', 'T2', 'T3', 'T4', 'T5', 'S1', 'S2', 'S3']\n",
    "\n",
    "for col in to_float:\n",
    "    df[col]=pd.to_numeric(df[col], errors='coerce')\n",
    "df['C2'] = df['C2'].astype('bool') "
   ]
  },
  {
   "cell_type": "markdown",
   "metadata": {},
   "source": [
    "## Cleanining/Imputing\n",
    "\n",
    "For our predictor variables only"
   ]
  },
  {
   "cell_type": "code",
   "execution_count": 52,
   "metadata": {},
   "outputs": [],
   "source": [
    "df = df.dropna(subset=['P(1Day)'])\n",
    "## Creating Necessary Variables Y1, Y2, C3', C5', and C6'\n",
    "## Code found on https://stackoverflow.com/questions/19913659/pandas-conditional-creation-of-a-series-dataframe-column\n",
    "df['P(Mid)'] = (df['P(H)'] + df['P(L)']) / 2\n",
    "df['Y1'] = np.where(df['P(IPO)'] < df['P(Mid)'], 1,0)\n",
    "df['Y2'] = np.where(df['P(IPO)'] < df['P(1Day)'], 1,0)\n",
    "df[\"C3_Prime\"] = np.where(df['C3'] > 0, 1, 0)\n",
    "df[\"C5_Prime\"] = df['C5'] / df['C6']\n",
    "df[\"C6_Prime\"] = np.where(df['P(IPO)'] > df['P(Mid)'], ((df['P(IPO)'] - df['P(Mid)']) / df['P(Mid)']) * 100,0)"
   ]
  },
  {
   "cell_type": "markdown",
   "metadata": {},
   "source": [
    "## Now we need to change our indusrt columns"
   ]
  },
  {
   "cell_type": "code",
   "execution_count": 53,
   "metadata": {},
   "outputs": [],
   "source": [
    "df['industry'] = df['I3'].apply(bk.assign_sector)\n",
    "\n",
    "df['industry'] = df['industry'].replace(['Mining', 'Wholesale Trade', 'Finance/Insurance/Realestate', 'Non Classafiable Establishments',\n",
    "                                            'Agriculture/Forestry/Fishing', 'Construction', 'NaN'],'Other')\n",
    "df['industry'].value_counts()\n",
    "\n",
    "df['industry'] = df['industry'].replace({'Manufacturing': 1, 'Services': 2, 'Transportation/Communications/Utulities': 3, 'Retail Trade': 4,'Other': 5})\n",
    "\n",
    "df['industry'] = df['industry'].fillna(5)\n",
    "\n",
    "df['industry_1'] = np.where(df['industry'] ==1, 1, 0)\n",
    "df['industry_2'] = np.where(df['industry'] ==2, 1, 0)\n",
    "df['industry_3'] = np.where(df['industry'] ==3, 1, 0)\n",
    "df['industry_4'] = np.where(df['industry'] ==4, 1, 0)\n",
    "df['industry_5'] = np.where(df['industry'] ==5, 1, 0)\n"
   ]
  },
  {
   "cell_type": "markdown",
   "metadata": {},
   "source": [
    "## Now we need to create our ratio columns\n"
   ]
  },
  {
   "cell_type": "code",
   "execution_count": 54,
   "metadata": {},
   "outputs": [],
   "source": [
    "t2_mean = df['T2'].mean()\n",
    "df['T2'] = np.where(df['T2'] ==0, t2_mean, df['T2'])\n",
    "df[\"S1_Prime\"]= df['S1']/df['T2']\n",
    "df[\"S2_Prime\"]= df['S2']/df['T2']\n",
    "df[\"S3_Prime\"]= df['S3']/df['T2']\n",
    "df[\"T3_Prime\"]= df['T3']/df['T2']\n",
    "df[\"T4_Prime\"]= df['T4']/df['T1']\n",
    "df[\"T5_Prime\"]= df['T5']/df['T2']"
   ]
  },
  {
   "cell_type": "markdown",
   "metadata": {},
   "source": [
    "## No longer need these columns"
   ]
  },
  {
   "cell_type": "code",
   "execution_count": 55,
   "metadata": {},
   "outputs": [],
   "source": [
    "df = df.drop(columns = ['I2', 'I3'])"
   ]
  },
  {
   "cell_type": "markdown",
   "metadata": {},
   "source": [
    "## Getting rid of our 0 value columns"
   ]
  },
  {
   "cell_type": "code",
   "execution_count": 56,
   "metadata": {},
   "outputs": [
    {
     "name": "stdout",
     "output_type": "stream",
     "text": [
      "11463.39393939394\n",
      "68.67575757575757\n",
      "669.8909090909091\n"
     ]
    }
   ],
   "source": [
    "#T3 need to get rid of thier zeros.\n",
    "t3_mean = df['T3'].mean()\n",
    "df['T3'] = np.where(df['T3'] ==0, t3_mean, df['T3'])\n",
    "print(t3_mean)\n",
    "\n",
    "#S1 need to get rid of thier zeros.\n",
    "s1_mean = df['S1'].mean()\n",
    "df['S1'] = np.where(df['S1'] ==-1, s1_mean, df['S1'])\n",
    "print(s1_mean)\n",
    "\n",
    "#T5 need to get rid of thier zeros.\n",
    "t5_mean = df['T5'].mean()\n",
    "df['T5'] = np.where(df['T5'] ==-1, s1_mean, df['T5'])\n",
    "print(t5_mean)"
   ]
  },
  {
   "cell_type": "markdown",
   "metadata": {},
   "source": [
    "## More Imputation"
   ]
  },
  {
   "cell_type": "code",
   "execution_count": 57,
   "metadata": {},
   "outputs": [
    {
     "name": "stdout",
     "output_type": "stream",
     "text": [
      "4.592588484196865\n",
      "-0.21843318437028425\n"
     ]
    }
   ],
   "source": [
    "#nromalize qnd impute C7 values\n",
    "df['C7'] = np.log(df['C7'])\n",
    "c7_mean = df['C7'].mean()\n",
    "print(c7_mean)\n",
    "df['C7'] = df['C7'].fillna(c7_mean)\n",
    "\n",
    "#normalize and impute C3 values\n",
    "df['C3'] = np.cbrt(df['C3'])\n",
    "c3_mean = df['C3'].mean()\n",
    "print(c3_mean)\n",
    "df['C3'] = df['C3'].fillna(c3_mean)"
   ]
  },
  {
   "cell_type": "markdown",
   "metadata": {},
   "source": [
    "## Creyting More Variables for us to use\n"
   ]
  },
  {
   "cell_type": "markdown",
   "metadata": {},
   "source": [
    "## Normalize the Rest of the DF"
   ]
  },
  {
   "cell_type": "code",
   "execution_count": 58,
   "metadata": {},
   "outputs": [
    {
     "data": {
      "text/html": [
       "<div>\n",
       "<style scoped>\n",
       "    .dataframe tbody tr th:only-of-type {\n",
       "        vertical-align: middle;\n",
       "    }\n",
       "\n",
       "    .dataframe tbody tr th {\n",
       "        vertical-align: top;\n",
       "    }\n",
       "\n",
       "    .dataframe thead th {\n",
       "        text-align: right;\n",
       "    }\n",
       "</style>\n",
       "<table border=\"1\" class=\"dataframe\">\n",
       "  <thead>\n",
       "    <tr style=\"text-align: right;\">\n",
       "      <th></th>\n",
       "      <th>P(IPO)</th>\n",
       "      <th>P(H)</th>\n",
       "      <th>P(L)</th>\n",
       "      <th>P(1Day)</th>\n",
       "      <th>C1</th>\n",
       "      <th>C3</th>\n",
       "      <th>C4</th>\n",
       "      <th>C5</th>\n",
       "      <th>C6</th>\n",
       "      <th>C7</th>\n",
       "      <th>T1</th>\n",
       "      <th>T2</th>\n",
       "      <th>T3</th>\n",
       "      <th>T4</th>\n",
       "      <th>T5</th>\n",
       "      <th>S1</th>\n",
       "      <th>S2</th>\n",
       "      <th>S3</th>\n",
       "      <th>P(Mid)</th>\n",
       "      <th>Y1</th>\n",
       "      <th>Y2</th>\n",
       "      <th>C3_Prime</th>\n",
       "      <th>C5_Prime</th>\n",
       "      <th>C6_Prime</th>\n",
       "      <th>industry</th>\n",
       "      <th>industry_1</th>\n",
       "      <th>industry_2</th>\n",
       "      <th>industry_3</th>\n",
       "      <th>industry_4</th>\n",
       "      <th>industry_5</th>\n",
       "      <th>S1_Prime</th>\n",
       "      <th>S2_Prime</th>\n",
       "      <th>S3_Prime</th>\n",
       "      <th>T3_Prime</th>\n",
       "      <th>T4_Prime</th>\n",
       "      <th>T5_Prime</th>\n",
       "      <th>market_cap</th>\n",
       "    </tr>\n",
       "  </thead>\n",
       "  <tbody>\n",
       "    <tr>\n",
       "      <th>count</th>\n",
       "      <td>660.000000</td>\n",
       "      <td>660.000000</td>\n",
       "      <td>660.000000</td>\n",
       "      <td>660.000000</td>\n",
       "      <td>660.000000</td>\n",
       "      <td>660.000000</td>\n",
       "      <td>660.000000</td>\n",
       "      <td>6.600000e+02</td>\n",
       "      <td>6.600000e+02</td>\n",
       "      <td>660.000000</td>\n",
       "      <td>660.000000</td>\n",
       "      <td>660.000000</td>\n",
       "      <td>660.000000</td>\n",
       "      <td>660.000000</td>\n",
       "      <td>660.000000</td>\n",
       "      <td>660.000000</td>\n",
       "      <td>660.000000</td>\n",
       "      <td>660.000000</td>\n",
       "      <td>660.000000</td>\n",
       "      <td>660.000000</td>\n",
       "      <td>660.000000</td>\n",
       "      <td>660.000000</td>\n",
       "      <td>660.000000</td>\n",
       "      <td>660.000000</td>\n",
       "      <td>660.000000</td>\n",
       "      <td>660.000000</td>\n",
       "      <td>660.000000</td>\n",
       "      <td>660.000000</td>\n",
       "      <td>660.000000</td>\n",
       "      <td>660.000000</td>\n",
       "      <td>660.000000</td>\n",
       "      <td>660.000000</td>\n",
       "      <td>660.000000</td>\n",
       "      <td>660.000000</td>\n",
       "      <td>660.000000</td>\n",
       "      <td>660.000000</td>\n",
       "      <td>6.600000e+02</td>\n",
       "    </tr>\n",
       "    <tr>\n",
       "      <th>mean</th>\n",
       "      <td>14.034621</td>\n",
       "      <td>15.610394</td>\n",
       "      <td>13.635394</td>\n",
       "      <td>25.934766</td>\n",
       "      <td>149.728788</td>\n",
       "      <td>-0.218433</td>\n",
       "      <td>0.007282</td>\n",
       "      <td>4.996285e+07</td>\n",
       "      <td>1.258248e+07</td>\n",
       "      <td>4.592588</td>\n",
       "      <td>468.701515</td>\n",
       "      <td>12888.641524</td>\n",
       "      <td>11515.500275</td>\n",
       "      <td>295.957576</td>\n",
       "      <td>669.996478</td>\n",
       "      <td>68.781327</td>\n",
       "      <td>120.896970</td>\n",
       "      <td>145.516667</td>\n",
       "      <td>14.622894</td>\n",
       "      <td>0.500000</td>\n",
       "      <td>0.698485</td>\n",
       "      <td>0.477273</td>\n",
       "      <td>4.417255</td>\n",
       "      <td>5.404645</td>\n",
       "      <td>2.048485</td>\n",
       "      <td>0.448485</td>\n",
       "      <td>0.303030</td>\n",
       "      <td>0.087879</td>\n",
       "      <td>0.072727</td>\n",
       "      <td>0.087879</td>\n",
       "      <td>0.005308</td>\n",
       "      <td>0.009055</td>\n",
       "      <td>0.011516</td>\n",
       "      <td>0.891504</td>\n",
       "      <td>0.626720</td>\n",
       "      <td>0.052171</td>\n",
       "      <td>2.318804e+08</td>\n",
       "    </tr>\n",
       "    <tr>\n",
       "      <th>std</th>\n",
       "      <td>5.954214</td>\n",
       "      <td>6.613816</td>\n",
       "      <td>5.790112</td>\n",
       "      <td>73.234948</td>\n",
       "      <td>152.817467</td>\n",
       "      <td>1.534849</td>\n",
       "      <td>0.033318</td>\n",
       "      <td>1.055377e+08</td>\n",
       "      <td>2.539940e+07</td>\n",
       "      <td>1.916640</td>\n",
       "      <td>176.374430</td>\n",
       "      <td>5415.681452</td>\n",
       "      <td>4805.168278</td>\n",
       "      <td>122.172959</td>\n",
       "      <td>298.043412</td>\n",
       "      <td>39.316670</td>\n",
       "      <td>85.542267</td>\n",
       "      <td>69.824545</td>\n",
       "      <td>6.187137</td>\n",
       "      <td>0.500379</td>\n",
       "      <td>0.459264</td>\n",
       "      <td>0.499862</td>\n",
       "      <td>5.133537</td>\n",
       "      <td>10.877569</td>\n",
       "      <td>1.272118</td>\n",
       "      <td>0.497716</td>\n",
       "      <td>0.459917</td>\n",
       "      <td>0.283333</td>\n",
       "      <td>0.259885</td>\n",
       "      <td>0.283333</td>\n",
       "      <td>0.001755</td>\n",
       "      <td>0.002990</td>\n",
       "      <td>0.002842</td>\n",
       "      <td>0.071672</td>\n",
       "      <td>0.077686</td>\n",
       "      <td>0.007347</td>\n",
       "      <td>9.637201e+08</td>\n",
       "    </tr>\n",
       "    <tr>\n",
       "      <th>min</th>\n",
       "      <td>5.000000</td>\n",
       "      <td>0.000000</td>\n",
       "      <td>5.000000</td>\n",
       "      <td>0.000000</td>\n",
       "      <td>10.000000</td>\n",
       "      <td>-9.229642</td>\n",
       "      <td>-0.162352</td>\n",
       "      <td>3.693227e+06</td>\n",
       "      <td>8.000000e+05</td>\n",
       "      <td>-2.603690</td>\n",
       "      <td>132.000000</td>\n",
       "      <td>3271.000000</td>\n",
       "      <td>3003.000000</td>\n",
       "      <td>0.000000</td>\n",
       "      <td>68.675758</td>\n",
       "      <td>9.000000</td>\n",
       "      <td>20.000000</td>\n",
       "      <td>40.000000</td>\n",
       "      <td>4.000000</td>\n",
       "      <td>0.000000</td>\n",
       "      <td>0.000000</td>\n",
       "      <td>0.000000</td>\n",
       "      <td>0.283223</td>\n",
       "      <td>0.000000</td>\n",
       "      <td>1.000000</td>\n",
       "      <td>0.000000</td>\n",
       "      <td>0.000000</td>\n",
       "      <td>0.000000</td>\n",
       "      <td>0.000000</td>\n",
       "      <td>0.000000</td>\n",
       "      <td>-0.000093</td>\n",
       "      <td>0.002152</td>\n",
       "      <td>0.005326</td>\n",
       "      <td>0.000000</td>\n",
       "      <td>0.000000</td>\n",
       "      <td>-0.000089</td>\n",
       "      <td>5.775000e+06</td>\n",
       "    </tr>\n",
       "    <tr>\n",
       "      <th>25%</th>\n",
       "      <td>10.000000</td>\n",
       "      <td>13.000000</td>\n",
       "      <td>11.000000</td>\n",
       "      <td>11.000000</td>\n",
       "      <td>85.000000</td>\n",
       "      <td>-0.926368</td>\n",
       "      <td>-0.013927</td>\n",
       "      <td>1.877568e+07</td>\n",
       "      <td>5.124546e+06</td>\n",
       "      <td>3.724681</td>\n",
       "      <td>356.000000</td>\n",
       "      <td>9275.500000</td>\n",
       "      <td>8297.000000</td>\n",
       "      <td>214.000000</td>\n",
       "      <td>463.750000</td>\n",
       "      <td>45.000000</td>\n",
       "      <td>74.000000</td>\n",
       "      <td>100.000000</td>\n",
       "      <td>12.000000</td>\n",
       "      <td>0.000000</td>\n",
       "      <td>0.000000</td>\n",
       "      <td>0.000000</td>\n",
       "      <td>2.850622</td>\n",
       "      <td>0.000000</td>\n",
       "      <td>1.000000</td>\n",
       "      <td>0.000000</td>\n",
       "      <td>0.000000</td>\n",
       "      <td>0.000000</td>\n",
       "      <td>0.000000</td>\n",
       "      <td>0.000000</td>\n",
       "      <td>0.004131</td>\n",
       "      <td>0.006966</td>\n",
       "      <td>0.009579</td>\n",
       "      <td>0.883417</td>\n",
       "      <td>0.580329</td>\n",
       "      <td>0.047544</td>\n",
       "      <td>6.000000e+07</td>\n",
       "    </tr>\n",
       "    <tr>\n",
       "      <th>50%</th>\n",
       "      <td>13.750000</td>\n",
       "      <td>15.500000</td>\n",
       "      <td>13.000000</td>\n",
       "      <td>14.845000</td>\n",
       "      <td>107.000000</td>\n",
       "      <td>-0.218433</td>\n",
       "      <td>0.009125</td>\n",
       "      <td>2.745438e+07</td>\n",
       "      <td>7.500000e+06</td>\n",
       "      <td>4.592588</td>\n",
       "      <td>446.000000</td>\n",
       "      <td>12141.500000</td>\n",
       "      <td>10853.000000</td>\n",
       "      <td>280.000000</td>\n",
       "      <td>627.000000</td>\n",
       "      <td>60.000000</td>\n",
       "      <td>101.500000</td>\n",
       "      <td>135.000000</td>\n",
       "      <td>14.250000</td>\n",
       "      <td>0.500000</td>\n",
       "      <td>1.000000</td>\n",
       "      <td>0.000000</td>\n",
       "      <td>3.731035</td>\n",
       "      <td>0.000000</td>\n",
       "      <td>2.000000</td>\n",
       "      <td>0.000000</td>\n",
       "      <td>0.000000</td>\n",
       "      <td>0.000000</td>\n",
       "      <td>0.000000</td>\n",
       "      <td>0.000000</td>\n",
       "      <td>0.005027</td>\n",
       "      <td>0.008577</td>\n",
       "      <td>0.011301</td>\n",
       "      <td>0.897294</td>\n",
       "      <td>0.628861</td>\n",
       "      <td>0.051927</td>\n",
       "      <td>9.870000e+07</td>\n",
       "    </tr>\n",
       "    <tr>\n",
       "      <th>75%</th>\n",
       "      <td>17.000000</td>\n",
       "      <td>17.000000</td>\n",
       "      <td>15.000000</td>\n",
       "      <td>20.485000</td>\n",
       "      <td>155.250000</td>\n",
       "      <td>0.738329</td>\n",
       "      <td>0.031571</td>\n",
       "      <td>5.003986e+07</td>\n",
       "      <td>1.200000e+07</td>\n",
       "      <td>5.706326</td>\n",
       "      <td>553.250000</td>\n",
       "      <td>15275.000000</td>\n",
       "      <td>13793.500000</td>\n",
       "      <td>355.250000</td>\n",
       "      <td>801.250000</td>\n",
       "      <td>85.000000</td>\n",
       "      <td>144.000000</td>\n",
       "      <td>174.000000</td>\n",
       "      <td>16.000000</td>\n",
       "      <td>1.000000</td>\n",
       "      <td>1.000000</td>\n",
       "      <td>1.000000</td>\n",
       "      <td>4.857904</td>\n",
       "      <td>7.692308</td>\n",
       "      <td>2.000000</td>\n",
       "      <td>1.000000</td>\n",
       "      <td>1.000000</td>\n",
       "      <td>0.000000</td>\n",
       "      <td>0.000000</td>\n",
       "      <td>0.000000</td>\n",
       "      <td>0.006254</td>\n",
       "      <td>0.010521</td>\n",
       "      <td>0.012848</td>\n",
       "      <td>0.909693</td>\n",
       "      <td>0.674461</td>\n",
       "      <td>0.056489</td>\n",
       "      <td>1.760000e+08</td>\n",
       "    </tr>\n",
       "    <tr>\n",
       "      <th>max</th>\n",
       "      <td>85.000000</td>\n",
       "      <td>135.000000</td>\n",
       "      <td>108.000000</td>\n",
       "      <td>1159.200562</td>\n",
       "      <td>2087.000000</td>\n",
       "      <td>15.692704</td>\n",
       "      <td>0.092896</td>\n",
       "      <td>2.138085e+09</td>\n",
       "      <td>4.212336e+08</td>\n",
       "      <td>10.331464</td>\n",
       "      <td>1750.000000</td>\n",
       "      <td>49056.000000</td>\n",
       "      <td>43952.000000</td>\n",
       "      <td>1058.000000</td>\n",
       "      <td>2729.000000</td>\n",
       "      <td>309.000000</td>\n",
       "      <td>944.000000</td>\n",
       "      <td>883.000000</td>\n",
       "      <td>121.500000</td>\n",
       "      <td>1.000000</td>\n",
       "      <td>1.000000</td>\n",
       "      <td>1.000000</td>\n",
       "      <td>99.787255</td>\n",
       "      <td>100.000000</td>\n",
       "      <td>5.000000</td>\n",
       "      <td>1.000000</td>\n",
       "      <td>1.000000</td>\n",
       "      <td>1.000000</td>\n",
       "      <td>1.000000</td>\n",
       "      <td>1.000000</td>\n",
       "      <td>0.012839</td>\n",
       "      <td>0.024605</td>\n",
       "      <td>0.029397</td>\n",
       "      <td>1.490540</td>\n",
       "      <td>0.826347</td>\n",
       "      <td>0.088329</td>\n",
       "      <td>1.786400e+10</td>\n",
       "    </tr>\n",
       "  </tbody>\n",
       "</table>\n",
       "</div>"
      ],
      "text/plain": [
       "           P(IPO)        P(H)        P(L)      P(1Day)           C1  \\\n",
       "count  660.000000  660.000000  660.000000   660.000000   660.000000   \n",
       "mean    14.034621   15.610394   13.635394    25.934766   149.728788   \n",
       "std      5.954214    6.613816    5.790112    73.234948   152.817467   \n",
       "min      5.000000    0.000000    5.000000     0.000000    10.000000   \n",
       "25%     10.000000   13.000000   11.000000    11.000000    85.000000   \n",
       "50%     13.750000   15.500000   13.000000    14.845000   107.000000   \n",
       "75%     17.000000   17.000000   15.000000    20.485000   155.250000   \n",
       "max     85.000000  135.000000  108.000000  1159.200562  2087.000000   \n",
       "\n",
       "               C3          C4            C5            C6          C7  \\\n",
       "count  660.000000  660.000000  6.600000e+02  6.600000e+02  660.000000   \n",
       "mean    -0.218433    0.007282  4.996285e+07  1.258248e+07    4.592588   \n",
       "std      1.534849    0.033318  1.055377e+08  2.539940e+07    1.916640   \n",
       "min     -9.229642   -0.162352  3.693227e+06  8.000000e+05   -2.603690   \n",
       "25%     -0.926368   -0.013927  1.877568e+07  5.124546e+06    3.724681   \n",
       "50%     -0.218433    0.009125  2.745438e+07  7.500000e+06    4.592588   \n",
       "75%      0.738329    0.031571  5.003986e+07  1.200000e+07    5.706326   \n",
       "max     15.692704    0.092896  2.138085e+09  4.212336e+08   10.331464   \n",
       "\n",
       "                T1            T2            T3           T4           T5  \\\n",
       "count   660.000000    660.000000    660.000000   660.000000   660.000000   \n",
       "mean    468.701515  12888.641524  11515.500275   295.957576   669.996478   \n",
       "std     176.374430   5415.681452   4805.168278   122.172959   298.043412   \n",
       "min     132.000000   3271.000000   3003.000000     0.000000    68.675758   \n",
       "25%     356.000000   9275.500000   8297.000000   214.000000   463.750000   \n",
       "50%     446.000000  12141.500000  10853.000000   280.000000   627.000000   \n",
       "75%     553.250000  15275.000000  13793.500000   355.250000   801.250000   \n",
       "max    1750.000000  49056.000000  43952.000000  1058.000000  2729.000000   \n",
       "\n",
       "               S1          S2          S3      P(Mid)          Y1          Y2  \\\n",
       "count  660.000000  660.000000  660.000000  660.000000  660.000000  660.000000   \n",
       "mean    68.781327  120.896970  145.516667   14.622894    0.500000    0.698485   \n",
       "std     39.316670   85.542267   69.824545    6.187137    0.500379    0.459264   \n",
       "min      9.000000   20.000000   40.000000    4.000000    0.000000    0.000000   \n",
       "25%     45.000000   74.000000  100.000000   12.000000    0.000000    0.000000   \n",
       "50%     60.000000  101.500000  135.000000   14.250000    0.500000    1.000000   \n",
       "75%     85.000000  144.000000  174.000000   16.000000    1.000000    1.000000   \n",
       "max    309.000000  944.000000  883.000000  121.500000    1.000000    1.000000   \n",
       "\n",
       "         C3_Prime    C5_Prime    C6_Prime    industry  industry_1  industry_2  \\\n",
       "count  660.000000  660.000000  660.000000  660.000000  660.000000  660.000000   \n",
       "mean     0.477273    4.417255    5.404645    2.048485    0.448485    0.303030   \n",
       "std      0.499862    5.133537   10.877569    1.272118    0.497716    0.459917   \n",
       "min      0.000000    0.283223    0.000000    1.000000    0.000000    0.000000   \n",
       "25%      0.000000    2.850622    0.000000    1.000000    0.000000    0.000000   \n",
       "50%      0.000000    3.731035    0.000000    2.000000    0.000000    0.000000   \n",
       "75%      1.000000    4.857904    7.692308    2.000000    1.000000    1.000000   \n",
       "max      1.000000   99.787255  100.000000    5.000000    1.000000    1.000000   \n",
       "\n",
       "       industry_3  industry_4  industry_5    S1_Prime    S2_Prime    S3_Prime  \\\n",
       "count  660.000000  660.000000  660.000000  660.000000  660.000000  660.000000   \n",
       "mean     0.087879    0.072727    0.087879    0.005308    0.009055    0.011516   \n",
       "std      0.283333    0.259885    0.283333    0.001755    0.002990    0.002842   \n",
       "min      0.000000    0.000000    0.000000   -0.000093    0.002152    0.005326   \n",
       "25%      0.000000    0.000000    0.000000    0.004131    0.006966    0.009579   \n",
       "50%      0.000000    0.000000    0.000000    0.005027    0.008577    0.011301   \n",
       "75%      0.000000    0.000000    0.000000    0.006254    0.010521    0.012848   \n",
       "max      1.000000    1.000000    1.000000    0.012839    0.024605    0.029397   \n",
       "\n",
       "         T3_Prime    T4_Prime    T5_Prime    market_cap  \n",
       "count  660.000000  660.000000  660.000000  6.600000e+02  \n",
       "mean     0.891504    0.626720    0.052171  2.318804e+08  \n",
       "std      0.071672    0.077686    0.007347  9.637201e+08  \n",
       "min      0.000000    0.000000   -0.000089  5.775000e+06  \n",
       "25%      0.883417    0.580329    0.047544  6.000000e+07  \n",
       "50%      0.897294    0.628861    0.051927  9.870000e+07  \n",
       "75%      0.909693    0.674461    0.056489  1.760000e+08  \n",
       "max      1.490540    0.826347    0.088329  1.786400e+10  "
      ]
     },
     "execution_count": 58,
     "metadata": {},
     "output_type": "execute_result"
    }
   ],
   "source": [
    "df['market_cap'] =df['P(IPO)'] * df['C6']\n",
    "df.describe()"
   ]
  },
  {
   "cell_type": "code",
   "execution_count": 59,
   "metadata": {},
   "outputs": [
    {
     "name": "stderr",
     "output_type": "stream",
     "text": [
      "/opt/tljh/user/lib/python3.6/site-packages/ipykernel_launcher.py:5: RuntimeWarning: invalid value encountered in log\n",
      "  \"\"\"\n"
     ]
    }
   ],
   "source": [
    "pos_skew = ['P(IPO)', 'P(L)', 'C1', 'C5', 'C6', 'T1', 'T2', 'T3', 'T5', 'S1', 'S2', 'S3', 'P(Mid)', 'C5_Prime', \n",
    "            'S2_Prime','S3_Prime', 'S1_Prime', 'market_cap' ]\n",
    "\n",
    "for col in pos_skew:\n",
    "    df[col]=np.log(df[col])\n",
    "\n",
    "cbrt_skew = ['P(1Day)', 'T4', 'C6_Prime', 'P(H)']\n",
    "\n",
    "for col in cbrt_skew:\n",
    "    df[col]=np.cbrt(df[col])\n",
    "\n",
    "over_log = ['C5', 'C6']\n",
    "for col in over_log:\n",
    "    df[col]=1/np.log(df[col])\n",
    "\n",
    "df['T4'] = np.sqrt(df['T4'])\n",
    "\n",
    "neg_skew = ['T3_Prime', 'T4_Prime']\n",
    "\n",
    "for col in neg_skew:\n",
    "    df[col]=df[col]**2\n"
   ]
  },
  {
   "cell_type": "code",
   "execution_count": 60,
   "metadata": {},
   "outputs": [],
   "source": [
    "cols_test = ['P(IPO)', 'P(H)', 'P(L)', 'C1','C2', 'C3', 'C4', 'C5', 'C6','C7',\t'T1',\t'T2',\t'T3',\t'T4',\t'T5', \n",
    "            'S1',\t'S2',\t'S3',\t'P(Mid)',\t'C3_Prime',\t'C5_Prime',\t'C6_Prime',\t'industry', 'S2_Prime', \n",
    "            'S3_Prime',\t'T3_Prime',\t'T4_Prime',\t'T5_Prime',\t'industry_1',\t'industry_2',\t'industry_3',\t'industry_4',\t'industry_5']\n",
    "dataset = df[cols_test].copy()\n",
    "target_y1 = df[['Y1']].copy()\n",
    "target_y2 = df[['Y2']].copy()\n",
    "\n",
    "#s1Prime causes us to have an error for some reason"
   ]
  },
  {
   "cell_type": "markdown",
   "metadata": {},
   "source": [
    "## Y1 Columns"
   ]
  },
  {
   "cell_type": "code",
   "execution_count": 61,
   "metadata": {},
   "outputs": [
    {
     "name": "stdout",
     "output_type": "stream",
     "text": [
      "3\n"
     ]
    },
    {
     "name": "stderr",
     "output_type": "stream",
     "text": [
      "/opt/tljh/user/lib/python3.6/site-packages/sklearn/utils/validation.py:578: DataConversionWarning: A column-vector y was passed when a 1d array was expected. Please change the shape of y to (n_samples, ), for example using ravel().\n",
      "  y = column_or_1d(y, warn=True)\n",
      "/opt/tljh/user/lib/python3.6/site-packages/sklearn/utils/validation.py:578: DataConversionWarning: A column-vector y was passed when a 1d array was expected. Please change the shape of y to (n_samples, ), for example using ravel().\n",
      "  y = column_or_1d(y, warn=True)\n"
     ]
    },
    {
     "name": "stdout",
     "output_type": "stream",
     "text": [
      "Model with the best 3 features\n",
      "[ True False  True False False False False False False False False False\n",
      " False False False False False False False False False  True False False\n",
      " False False False False False False False False False]\n",
      "[ 1  3  1 23 27 10 21 29 31 16 30 22 12 17 26  8  4 20  2  9 13  1 24  7\n",
      "  5  6 18 25 28 14 15 11 19]\n",
      "4\n",
      "Model with the best 4 features\n",
      "[ True False  True False False False False False False False False False\n",
      " False False False False False False  True False False  True False False\n",
      " False False False False False False False False False]\n",
      "[ 1  2  1 22 26  9 20 28 30 15 29 21 11 16 25  7  3 19  1  8 12  1 23  6\n",
      "  4  5 17 24 27 13 14 10 18]\n",
      "5\n",
      "Model with the best 5 features\n",
      "[ True  True  True False False False False False False False False False\n",
      " False False False False False False  True False False  True False False\n",
      " False False False False False False False False False]\n",
      "[ 1  1  1 21 25  8 19 27 29 14 28 20 10 15 24  6  2 18  1  7 11  1 22  5\n",
      "  3  4 16 23 26 12 13  9 17]\n",
      "6\n"
     ]
    },
    {
     "name": "stderr",
     "output_type": "stream",
     "text": [
      "/opt/tljh/user/lib/python3.6/site-packages/sklearn/utils/validation.py:578: DataConversionWarning: A column-vector y was passed when a 1d array was expected. Please change the shape of y to (n_samples, ), for example using ravel().\n",
      "  y = column_or_1d(y, warn=True)\n",
      "/opt/tljh/user/lib/python3.6/site-packages/sklearn/utils/validation.py:578: DataConversionWarning: A column-vector y was passed when a 1d array was expected. Please change the shape of y to (n_samples, ), for example using ravel().\n",
      "  y = column_or_1d(y, warn=True)\n"
     ]
    },
    {
     "name": "stdout",
     "output_type": "stream",
     "text": [
      "Model with the best 6 features\n",
      "[ True  True  True False False False False False False False False False\n",
      " False False False False  True False  True False False  True False False\n",
      " False False False False False False False False False]\n",
      "[ 1  1  1 20 24  7 18 26 28 13 27 19  9 14 23  5  1 17  1  6 10  1 21  4\n",
      "  2  3 15 22 25 11 12  8 16]\n",
      "7\n",
      "Model with the best 7 features\n",
      "[ True  True  True False False False False False False False False False\n",
      " False False False False  True False  True False False  True False False\n",
      "  True False False False False False False False False]\n",
      "[ 1  1  1 19 23  6 17 25 27 12 26 18  8 13 22  4  1 16  1  5  9  1 20  3\n",
      "  1  2 14 21 24 10 11  7 15]\n",
      "8\n"
     ]
    },
    {
     "name": "stderr",
     "output_type": "stream",
     "text": [
      "/opt/tljh/user/lib/python3.6/site-packages/sklearn/utils/validation.py:578: DataConversionWarning: A column-vector y was passed when a 1d array was expected. Please change the shape of y to (n_samples, ), for example using ravel().\n",
      "  y = column_or_1d(y, warn=True)\n",
      "/opt/tljh/user/lib/python3.6/site-packages/sklearn/utils/validation.py:578: DataConversionWarning: A column-vector y was passed when a 1d array was expected. Please change the shape of y to (n_samples, ), for example using ravel().\n",
      "  y = column_or_1d(y, warn=True)\n"
     ]
    },
    {
     "name": "stdout",
     "output_type": "stream",
     "text": [
      "Model with the best 8 features\n",
      "[ True  True  True False False False False False False False False False\n",
      " False False False False  True False  True False False  True False False\n",
      "  True  True False False False False False False False]\n",
      "[ 1  1  1 18 22  5 16 24 26 11 25 17  7 12 21  3  1 15  1  4  8  1 19  2\n",
      "  1  1 13 20 23  9 10  6 14]\n",
      "9\n",
      "Model with the best 9 features\n",
      "[ True  True  True False False False False False False False False False\n",
      " False False False False  True False  True False False  True False  True\n",
      "  True  True False False False False False False False]\n",
      "[ 1  1  1 17 21  4 15 23 25 10 24 16  6 11 20  2  1 14  1  3  7  1 18  1\n",
      "  1  1 12 19 22  8  9  5 13]\n",
      "10\n"
     ]
    },
    {
     "name": "stderr",
     "output_type": "stream",
     "text": [
      "/opt/tljh/user/lib/python3.6/site-packages/sklearn/utils/validation.py:578: DataConversionWarning: A column-vector y was passed when a 1d array was expected. Please change the shape of y to (n_samples, ), for example using ravel().\n",
      "  y = column_or_1d(y, warn=True)\n",
      "/opt/tljh/user/lib/python3.6/site-packages/sklearn/utils/validation.py:578: DataConversionWarning: A column-vector y was passed when a 1d array was expected. Please change the shape of y to (n_samples, ), for example using ravel().\n",
      "  y = column_or_1d(y, warn=True)\n"
     ]
    },
    {
     "name": "stdout",
     "output_type": "stream",
     "text": [
      "Model with the best 10 features\n",
      "[ True  True  True False False False False False False False False False\n",
      " False False False  True  True False  True False False  True False  True\n",
      "  True  True False False False False False False False]\n",
      "[ 1  1  1 16 20  3 14 22 24  9 23 15  5 10 19  1  1 13  1  2  6  1 17  1\n",
      "  1  1 11 18 21  7  8  4 12]\n"
     ]
    }
   ],
   "source": [
    "# load the iris datasets\n",
    "dataset = dataset.values\n",
    "target_y1 = target_y1.values\n",
    "# create a base classifier used to evaluate a subset of attributes\n",
    "model = LogisticRegression()\n",
    "for i in range(3, 11):\n",
    "    print(i)\n",
    "    # create a base classifier used to evaluate a subset of attributes\n",
    "    model = LogisticRegression()\n",
    "    # create the RFE model and select 3 attributes\n",
    "    rfe = RFE(model, i)\n",
    "    rfe = rfe.fit(dataset,  target_y1)\n",
    "    # summarize the selection of the attributes\n",
    "    print('Model with the best', i, 'features')\n",
    "    print(rfe.support_)\n",
    "    print(rfe.ranking_)"
   ]
  },
  {
   "cell_type": "code",
   "execution_count": 62,
   "metadata": {},
   "outputs": [],
   "source": [
    "cols_keep_y1 = ['P(IPO)', 'P(H)', 'P(L)', 'S2', 'P(Mid)', 'C6_Prime', 'Y1', 'Y2']\n",
    "df_output = df.copy()\n",
    "df_output = df_output[cols_keep_y1]"
   ]
  },
  {
   "cell_type": "markdown",
   "metadata": {},
   "source": [
    "## Y2"
   ]
  },
  {
   "cell_type": "code",
   "execution_count": 63,
   "metadata": {},
   "outputs": [
    {
     "name": "stdout",
     "output_type": "stream",
     "text": [
      "3\n",
      "Model with the best 3 features\n",
      "[False  True  True False False False False False False False False False\n",
      " False False False False False False False False False  True False False\n",
      " False False False False False False False False False]\n",
      "[30  1  1 27  3 15  2 24 25 22  8 18 23  7  9 10 17 16 13 14 11  1 20  5\n",
      " 31  4 19 29 21 12  6 26 28]\n",
      "4\n"
     ]
    },
    {
     "name": "stderr",
     "output_type": "stream",
     "text": [
      "/opt/tljh/user/lib/python3.6/site-packages/sklearn/utils/validation.py:578: DataConversionWarning: A column-vector y was passed when a 1d array was expected. Please change the shape of y to (n_samples, ), for example using ravel().\n",
      "  y = column_or_1d(y, warn=True)\n",
      "/opt/tljh/user/lib/python3.6/site-packages/sklearn/utils/validation.py:578: DataConversionWarning: A column-vector y was passed when a 1d array was expected. Please change the shape of y to (n_samples, ), for example using ravel().\n",
      "  y = column_or_1d(y, warn=True)\n"
     ]
    },
    {
     "name": "stdout",
     "output_type": "stream",
     "text": [
      "Model with the best 4 features\n",
      "[False  True  True False False False  True False False False False False\n",
      " False False False False False False False False False  True False False\n",
      " False False False False False False False False False]\n",
      "[29  1  1 26  2 14  1 23 24 21  7 17 22  6  8  9 16 15 12 13 10  1 19  4\n",
      " 30  3 18 28 20 11  5 25 27]\n",
      "5\n",
      "Model with the best 5 features\n",
      "[False  True  True False  True False  True False False False False False\n",
      " False False False False False False False False False  True False False\n",
      " False False False False False False False False False]\n",
      "[28  1  1 25  1 13  1 22 23 20  6 16 21  5  7  8 15 14 11 12  9  1 18  3\n",
      " 29  2 17 27 19 10  4 24 26]\n",
      "6\n"
     ]
    },
    {
     "name": "stderr",
     "output_type": "stream",
     "text": [
      "/opt/tljh/user/lib/python3.6/site-packages/sklearn/utils/validation.py:578: DataConversionWarning: A column-vector y was passed when a 1d array was expected. Please change the shape of y to (n_samples, ), for example using ravel().\n",
      "  y = column_or_1d(y, warn=True)\n",
      "/opt/tljh/user/lib/python3.6/site-packages/sklearn/utils/validation.py:578: DataConversionWarning: A column-vector y was passed when a 1d array was expected. Please change the shape of y to (n_samples, ), for example using ravel().\n",
      "  y = column_or_1d(y, warn=True)\n"
     ]
    },
    {
     "name": "stdout",
     "output_type": "stream",
     "text": [
      "Model with the best 6 features\n",
      "[False  True  True False  True False  True False False False False False\n",
      " False False False False False False False False False  True False False\n",
      " False  True False False False False False False False]\n",
      "[27  1  1 24  1 12  1 21 22 19  5 15 20  4  6  7 14 13 10 11  8  1 17  2\n",
      " 28  1 16 26 18  9  3 23 25]\n",
      "7\n",
      "Model with the best 7 features\n",
      "[False  True  True False  True False  True False False False False False\n",
      " False False False False False False False False False  True False  True\n",
      " False  True False False False False False False False]\n",
      "[26  1  1 23  1 11  1 20 21 18  4 14 19  3  5  6 13 12  9 10  7  1 16  1\n",
      " 27  1 15 25 17  8  2 22 24]\n",
      "8\n"
     ]
    },
    {
     "name": "stderr",
     "output_type": "stream",
     "text": [
      "/opt/tljh/user/lib/python3.6/site-packages/sklearn/utils/validation.py:578: DataConversionWarning: A column-vector y was passed when a 1d array was expected. Please change the shape of y to (n_samples, ), for example using ravel().\n",
      "  y = column_or_1d(y, warn=True)\n",
      "/opt/tljh/user/lib/python3.6/site-packages/sklearn/utils/validation.py:578: DataConversionWarning: A column-vector y was passed when a 1d array was expected. Please change the shape of y to (n_samples, ), for example using ravel().\n",
      "  y = column_or_1d(y, warn=True)\n"
     ]
    },
    {
     "name": "stdout",
     "output_type": "stream",
     "text": [
      "Model with the best 8 features\n",
      "[False  True  True False  True False  True False False False False False\n",
      " False False False False False False False False False  True False  True\n",
      " False  True False False False False  True False False]\n",
      "[25  1  1 22  1 10  1 19 20 17  3 13 18  2  4  5 12 11  8  9  6  1 15  1\n",
      " 26  1 14 24 16  7  1 21 23]\n",
      "9\n",
      "Model with the best 9 features\n",
      "[False  True  True False  True False  True False False False False False\n",
      " False  True False False False False False False False  True False  True\n",
      " False  True False False False False  True False False]\n",
      "[24  1  1 21  1  9  1 18 19 16  2 12 17  1  3  4 11 10  7  8  5  1 14  1\n",
      " 25  1 13 23 15  6  1 20 22]\n",
      "10\n"
     ]
    },
    {
     "name": "stderr",
     "output_type": "stream",
     "text": [
      "/opt/tljh/user/lib/python3.6/site-packages/sklearn/utils/validation.py:578: DataConversionWarning: A column-vector y was passed when a 1d array was expected. Please change the shape of y to (n_samples, ), for example using ravel().\n",
      "  y = column_or_1d(y, warn=True)\n",
      "/opt/tljh/user/lib/python3.6/site-packages/sklearn/utils/validation.py:578: DataConversionWarning: A column-vector y was passed when a 1d array was expected. Please change the shape of y to (n_samples, ), for example using ravel().\n",
      "  y = column_or_1d(y, warn=True)\n"
     ]
    },
    {
     "name": "stdout",
     "output_type": "stream",
     "text": [
      "Model with the best 10 features\n",
      "[False  True  True False  True False  True False False False  True False\n",
      " False  True False False False False False False False  True False  True\n",
      " False  True False False False False  True False False]\n",
      "[23  1  1 20  1  8  1 17 18 15  1 11 16  1  2  3 10  9  6  7  4  1 13  1\n",
      " 24  1 12 22 14  5  1 19 21]\n"
     ]
    }
   ],
   "source": [
    "# load the iris datasets\n",
    "target_y2 = target_y2.values\n",
    "# create a base classifier used to evaluate a subset of attributes\n",
    "model = LogisticRegression()\n",
    "for i in range(3, 11):\n",
    "    print(i)\n",
    "    # create a base classifier used to evaluate a subset of attributes\n",
    "    model = LogisticRegression()\n",
    "    # create the RFE model and select 3 attributes\n",
    "    rfe = RFE(model, i)\n",
    "    rfe = rfe.fit(dataset,  target_y2)\n",
    "    # summarize the selection of the attributes\n",
    "    print('Model with the best', i, 'features')\n",
    "    print(rfe.support_)\n",
    "    print(rfe.ranking_)"
   ]
  },
  {
   "cell_type": "markdown",
   "metadata": {},
   "source": [
    "## Write to Datafile"
   ]
  },
  {
   "cell_type": "code",
   "execution_count": 64,
   "metadata": {},
   "outputs": [],
   "source": [
    "df_output.to_csv('datasets/group2.csv', sep=',')"
   ]
  }
 ],
 "metadata": {
  "kernelspec": {
   "display_name": "Python 3",
   "language": "python",
   "name": "python3"
  },
  "language_info": {
   "codemirror_mode": {
    "name": "ipython",
    "version": 3
   },
   "file_extension": ".py",
   "mimetype": "text/x-python",
   "name": "python",
   "nbconvert_exporter": "python",
   "pygments_lexer": "ipython3",
   "version": "3.6.5"
  }
 },
 "nbformat": 4,
 "nbformat_minor": 2
}
